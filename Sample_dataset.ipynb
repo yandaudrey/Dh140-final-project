{
 "cells": [
  {
   "cell_type": "code",
   "execution_count": 1,
   "id": "03d78210-d5be-41a1-80cb-b4a7ad5cde42",
   "metadata": {},
   "outputs": [],
   "source": [
    "#Tower - 20 - Frank, Charles, \n",
    "#LA - 30\n",
    "TowerList = ['Frank', 'Charles']\n",
    "LAList = ['Betty', 'Eliza']"
   ]
  },
  {
   "cell_type": "code",
   "execution_count": 3,
   "id": "646fd868-fed5-44c4-8088-d0c916530195",
   "metadata": {},
   "outputs": [],
   "source": [
    "import pandas as pd"
   ]
  },
  {
   "cell_type": "code",
   "execution_count": 4,
   "id": "8749be27-966e-42f2-89d7-c09362f06466",
   "metadata": {},
   "outputs": [],
   "source": [
    "df = pd.DataFrame({'TowerList':TowerList, 'LAList':LAList})"
   ]
  },
  {
   "cell_type": "code",
   "execution_count": 5,
   "id": "791442e2-d00f-40d7-a35a-a8502902c956",
   "metadata": {},
   "outputs": [
    {
     "data": {
      "text/html": [
       "<div>\n",
       "<style scoped>\n",
       "    .dataframe tbody tr th:only-of-type {\n",
       "        vertical-align: middle;\n",
       "    }\n",
       "\n",
       "    .dataframe tbody tr th {\n",
       "        vertical-align: top;\n",
       "    }\n",
       "\n",
       "    .dataframe thead th {\n",
       "        text-align: right;\n",
       "    }\n",
       "</style>\n",
       "<table border=\"1\" class=\"dataframe\">\n",
       "  <thead>\n",
       "    <tr style=\"text-align: right;\">\n",
       "      <th></th>\n",
       "      <th>TowerList</th>\n",
       "      <th>LAList</th>\n",
       "    </tr>\n",
       "  </thead>\n",
       "  <tbody>\n",
       "    <tr>\n",
       "      <th>0</th>\n",
       "      <td>Frank</td>\n",
       "      <td>Betty</td>\n",
       "    </tr>\n",
       "    <tr>\n",
       "      <th>1</th>\n",
       "      <td>Charles</td>\n",
       "      <td>Eliza</td>\n",
       "    </tr>\n",
       "  </tbody>\n",
       "</table>\n",
       "</div>"
      ],
      "text/plain": [
       "  TowerList LAList\n",
       "0     Frank  Betty\n",
       "1   Charles  Eliza"
      ]
     },
     "execution_count": 5,
     "metadata": {},
     "output_type": "execute_result"
    }
   ],
   "source": [
    "df"
   ]
  },
  {
   "cell_type": "code",
   "execution_count": 6,
   "id": "4d9d9b18-dd5b-4065-b680-6c3079a1fa03",
   "metadata": {},
   "outputs": [],
   "source": [
    "df = pd.DataFrame({'Names': TowerList+LAList, 'Theater':['Tower','Tower','LA','LA']})"
   ]
  },
  {
   "cell_type": "code",
   "execution_count": 7,
   "id": "9caef2dd-61ce-4768-adab-14df0b0f146f",
   "metadata": {},
   "outputs": [
    {
     "data": {
      "text/html": [
       "<div>\n",
       "<style scoped>\n",
       "    .dataframe tbody tr th:only-of-type {\n",
       "        vertical-align: middle;\n",
       "    }\n",
       "\n",
       "    .dataframe tbody tr th {\n",
       "        vertical-align: top;\n",
       "    }\n",
       "\n",
       "    .dataframe thead th {\n",
       "        text-align: right;\n",
       "    }\n",
       "</style>\n",
       "<table border=\"1\" class=\"dataframe\">\n",
       "  <thead>\n",
       "    <tr style=\"text-align: right;\">\n",
       "      <th></th>\n",
       "      <th>Names</th>\n",
       "      <th>Theater</th>\n",
       "    </tr>\n",
       "  </thead>\n",
       "  <tbody>\n",
       "    <tr>\n",
       "      <th>0</th>\n",
       "      <td>Frank</td>\n",
       "      <td>Tower</td>\n",
       "    </tr>\n",
       "    <tr>\n",
       "      <th>1</th>\n",
       "      <td>Charles</td>\n",
       "      <td>Tower</td>\n",
       "    </tr>\n",
       "    <tr>\n",
       "      <th>2</th>\n",
       "      <td>Betty</td>\n",
       "      <td>LA</td>\n",
       "    </tr>\n",
       "    <tr>\n",
       "      <th>3</th>\n",
       "      <td>Eliza</td>\n",
       "      <td>LA</td>\n",
       "    </tr>\n",
       "  </tbody>\n",
       "</table>\n",
       "</div>"
      ],
      "text/plain": [
       "     Names Theater\n",
       "0    Frank   Tower\n",
       "1  Charles   Tower\n",
       "2    Betty      LA\n",
       "3    Eliza      LA"
      ]
     },
     "execution_count": 7,
     "metadata": {},
     "output_type": "execute_result"
    }
   ],
   "source": [
    "df\n",
    "df"
   ]
  },
  {
   "cell_type": "code",
   "execution_count": 8,
   "id": "9529ef3b-3db9-41c1-8807-12b40fe5f125",
   "metadata": {},
   "outputs": [],
   "source": [
    "NameSource = ['Frank','Frank']\n",
    "NameTarget = ['Charles','Eliza']\n",
    "TheaterSource = ['Tower','Tower']\n",
    "TheaterTarget = ['Tower','LA']\n",
    "NumTimes = [3,1]\n"
   ]
  },
  {
   "cell_type": "code",
   "execution_count": 9,
   "id": "0fafd7a9-79b2-43fc-b7e0-7d94b8749511",
   "metadata": {},
   "outputs": [],
   "source": [
    "df = pd.DataFrame({'NameSource':NameSource,\n",
    "                   'NameTarget':NameTarget,\n",
    "                   'Theater1':TheaterSource,\n",
    "                   'Theater2':TheaterTarget,\n",
    "                   'Occurrences':NumTimes})"
   ]
  },
  {
   "cell_type": "code",
   "execution_count": 10,
   "id": "3bd545cf-1e63-458a-a94d-468c98fa1de0",
   "metadata": {},
   "outputs": [
    {
     "data": {
      "text/html": [
       "<div>\n",
       "<style scoped>\n",
       "    .dataframe tbody tr th:only-of-type {\n",
       "        vertical-align: middle;\n",
       "    }\n",
       "\n",
       "    .dataframe tbody tr th {\n",
       "        vertical-align: top;\n",
       "    }\n",
       "\n",
       "    .dataframe thead th {\n",
       "        text-align: right;\n",
       "    }\n",
       "</style>\n",
       "<table border=\"1\" class=\"dataframe\">\n",
       "  <thead>\n",
       "    <tr style=\"text-align: right;\">\n",
       "      <th></th>\n",
       "      <th>NameSource</th>\n",
       "      <th>NameTarget</th>\n",
       "      <th>Theater1</th>\n",
       "      <th>Theater2</th>\n",
       "      <th>Occurrences</th>\n",
       "    </tr>\n",
       "  </thead>\n",
       "  <tbody>\n",
       "    <tr>\n",
       "      <th>0</th>\n",
       "      <td>Frank</td>\n",
       "      <td>Charles</td>\n",
       "      <td>Tower</td>\n",
       "      <td>Tower</td>\n",
       "      <td>3</td>\n",
       "    </tr>\n",
       "    <tr>\n",
       "      <th>1</th>\n",
       "      <td>Frank</td>\n",
       "      <td>Eliza</td>\n",
       "      <td>Tower</td>\n",
       "      <td>LA</td>\n",
       "      <td>1</td>\n",
       "    </tr>\n",
       "  </tbody>\n",
       "</table>\n",
       "</div>"
      ],
      "text/plain": [
       "  NameSource NameTarget Theater1 Theater2  Occurrences\n",
       "0      Frank    Charles    Tower    Tower            3\n",
       "1      Frank      Eliza    Tower       LA            1"
      ]
     },
     "execution_count": 10,
     "metadata": {},
     "output_type": "execute_result"
    }
   ],
   "source": [
    "df"
   ]
  }
 ],
 "metadata": {
  "kernelspec": {
   "display_name": "Python 3 (ipykernel)",
   "language": "python",
   "name": "python3"
  },
  "language_info": {
   "codemirror_mode": {
    "name": "ipython",
    "version": 3
   },
   "file_extension": ".py",
   "mimetype": "text/x-python",
   "name": "python",
   "nbconvert_exporter": "python",
   "pygments_lexer": "ipython3",
   "version": "3.9.6"
  }
 },
 "nbformat": 4,
 "nbformat_minor": 5
}

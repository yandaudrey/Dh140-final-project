{
 "cells": [
  {
   "cell_type": "markdown",
   "id": "d30d51e1-2334-4b75-8de6-349c67502172",
   "metadata": {},
   "source": [
    "# \"Network analysis of Tower Theatre and Los Angeles Theatre\"\n",
    "> \"Yun-Pu Yang, 03/07/2022\"\n",
    "\n",
    "- toc:true\n",
    "- branch: master\n",
    "- badges: true\n",
    "- comments: true\n",
    "- author: Hamel Husain & Jeremy Howard\n",
    "- categories: [fastpages, jupyter]"
   ]
  },
  {
   "cell_type": "markdown",
   "id": "86639fc1-8426-4053-ae01-5fac067cbfdc",
   "metadata": {
    "tags": []
   },
   "source": [
    "# Network analysis of Tower Theatre and Los Angeles Theatre \n",
    "### Introduction\n",
    "My project focuses on newspaper articles in <em>The Los Angeles News</em> published between 1927–1931 surrounding Tower Theatre and Los Angeles Theatre in downtown LA. Both theaters, located in Historic Core, were originally owned by entrepreneur H. L. Gumbiner (1879-1952) and designed by architect S. Charles Lee (1899-1990) in 1927 and 1931, respectively. These two theaters demonstrated a multiplicity of innovations and represented a peak of Los Angeles movie palaces in the 1920s and the beginning of the 1930s. \n",
    "\n",
    "With the decline of downtown LA and the increased competition of chain movie theaters, both Tower Theatre and Los Angeles Theatre were unable to survive through the end of the twentieth century. Tower Theatre changed its name to Newsreel Theatre and permanently closed in 1988. In 2021, Apple renovated the building and rebranded it as Apple Tower Theatre, reviving the landmark architecture and transforming the old movie palace into an Apple store. Los Angeles Theatre, once considered the best movie theatre in the world, stopped selling movie tickets in 1994. Currently, it serves as a film shoot location.\n",
    "\n",
    "In this project, I would like to explore a network of the architect, theater owners, investors, and other technicians to understand network influences on the completion of these two buildings. \n",
    "\n",
    "- Tower Theatre: [802 S Broadway, Los Angeles, CA 90014](https://goo.gl/maps/bg9eiUr46CwzkTSp7)\n",
    "- Los Angeles Theatre: [615 S Broadway, Los Angeles, CA 90014](https://goo.gl/maps/gqFpS5J8X6oTYthr8)\n",
    "\n",
    "<figure>\n",
    "    <img src=\"https://www.apple.com/newsroom/images/environments/stores/apple_nso-tower-theater-la_street-view_06222021_Full-Bleed-Image.jpg.large_2x.jpg\"\n",
    "         alt=\"Tower Theatre (2022)\">\n",
    "    <figcaption>Today's Tower Theatre</figcaption>\n",
    "</figure>\n",
    "\n",
    "\n",
    "<figure>\n",
    "    <img src=\"https://losangelestheatre.com/img/homeimage_latheatre_lobby.jpg\"\n",
    "         alt=\"Los Angeles Theatre\">\n",
    "    <figcaption>The auditorium of Los Angeles Theatre</figcaption>\n",
    "</figure>\n",
    "\n",
    "\n",
    "### Justification \n",
    "My project is in progress. It already contains [blueprint annotations](https://bjkeith.humspace.ucla.edu/LAandTower/blueprints/) and a partial demonstration of [3D modeling](https://bjkeith.humspace.ucla.edu/LAandTower/vectorworks/). But there is a shortage of qualitative analyses, such as text analysis and network analysis to make this project more comprehensive. If I can integrate network analysis into this project, it will help readers understand how the completion of these two buildings associated the fields of cinema, business, architecture, and science. \n",
    "\n",
    "A challenge of this project is a limitation of archival research. Due to the limited  time, I can only collect data from <em>The Los Angeles News</em>. However, there are still a lot of newspaper articles surrounding these two buildings that I am not able to explore this quarter. \n",
    "\n",
    "### Data source \n",
    "My data sources were newspaper articles published in <em>The Los Angeles News</em> between 1927 to 1931. I exported important articles that I collected from Zotero as CSV files. I also manually collected the names of figures appearing in the articles and created multiple datasets for Python to further clean my data, generating a list that exhibits all of the names relevant to these two buildings without repetition. Furthermore, based on these articles, I listed the source and the target as a dataset for Python to further calculate the composition of communities surrounding Tower and Los Angeles Theatres.  \n"
   ]
  },
  {
   "cell_type": "markdown",
   "id": "c207389c-a713-4e42-960d-e049e4650e41",
   "metadata": {},
   "source": [
    "#### 1. <em>The Zotero data of Tower Theater with names</em>"
   ]
  },
  {
   "cell_type": "markdown",
   "id": "19ea5fb6-7a7c-4338-a4b0-67683723fad9",
   "metadata": {},
   "source": [
    "| Title                                                                                                            | Date       | Pages | Short Title                       | Name            | Name           | Name           | Name           | Name           | Name           | Name           |\n",
    "|------------------------------------------------------------------------------------------------------------------|------------|-------|-----------------------------------|-----------------|----------------|----------------|----------------|----------------|----------------|----------------|\n",
    "| NEW THEATER PROJECTED: Southeast Corner of Eighth and Broadway Will Be Improved With Showhouse                   | 1926-09-12 | E3    | NEW THEATER PROJECTED             | S. Charles Lee  | S. Charles Lee | H. L. Gumbiner | S. Charles Lee | S. Charles Lee | H. L. Gumbiner | S. Charles Lee |\n",
    "| \"THEATER LANDMARK RAZED: Crews Begin Wrecking, of Old Garrick Showhouse at Eighth and Broadway; New One to Rise\" | 1927-03-06 | E1    | THEATER LANDMARK RAZED            | S. Charles Lee  | S. Charles Lee | S. Charles Lee | S. Charles Lee | R. E. Campbell |                |                |\n",
    "| \"TOWER, NEW PLAYHOUSE, WILL OPEN: First-Run Photoplays to be Presented; Premiere on October 12\"                  | 1927-09-22 | A9    | \"TOWER, NEW PLAYHOUSE, WILL OPEN\" | H. L. Gumbiner  |                |                |                |                |                |                |\n",
    "| FRENCH STYLE USED IN THEATER: Towered Unit Rising on Broadway                                                    | 1927-09-25 | E2    | FRENCH STYLE USED IN THEATER      | H. L. Gumbiner  | S. Charles Lee |                |                |                |                |                |\n",
    "| Refrigeration is Installed                                                                                       | 1927-09-27 | A10   |                                   | H. L. Gumblner  |                |                |                |                |                |                |\n",
    "| Weekly Change Meets Favor                                                                                        | 1927-09-28 | A9    |                                   |                 |                |                |                |                |                |                |\n",
    "| First-Run Regime Begins Today                                                                                    | 1927-09-30 | A9    |                                   | Edwardes Sprout |                |                |                |                |                |                |\n",
    "| TOWER PLAY HOUSE WILL OPEN SOON: Architecture of Unique Design is Main Feature; Many Innovations                 | 1927-10-02 | 32    | TOWER PLAY HOUSE WILL OPEN SOON   | Edwardes Sprout | H. L. Gumblner |                |                |                |                |                |\n",
    "| Meeting Held at Criterion                                                                                        | 1927-10-04 | A11   |                                   | Sam Warner      |                |                |                |                |                |                |\n"
   ]
  },
  {
   "cell_type": "markdown",
   "id": "873749ff-894b-4f5d-97ad-3114cd5ab470",
   "metadata": {},
   "source": [
    "#### 2. <em>The Zotero data of Los Angeles Theater with names</em> "
   ]
  },
  {
   "cell_type": "markdown",
   "id": "c197ffa7-2412-457b-b519-a5bfe4df4b3d",
   "metadata": {},
   "source": [
    "| Author               | Title                                                                                                                                                                                                                                                                                                | Date       | Pages     | Short Title                                                      | Name              | Name            | Name                           | Name            | Name            | Name            | Name              |                    |                 |                 |                 |             |                 |           |                 |   |   |   |\n",
    "|----------------------|------------------------------------------------------------------------------------------------------------------------------------------------------------------------------------------------------------------------------------------------------------------------------------------------------|------------|-----------|------------------------------------------------------------------|-------------------|-----------------|--------------------------------|-----------------|-----------------|-----------------|-------------------|--------------------|-----------------|-----------------|-----------------|-------------|-----------------|-----------|-----------------|---|---|---|\n",
    "|                      | Innovations Mark Newest Theater: New Los Angeles Playhouse Luxurious Beyond Compare                                                                                                                                                                                                                  | 1930-12-04 | 23        |                                                                  | H. L. Gumbiner    | Charlie Chaplin | S. Charles Lee                 |                 |                 |                 |                   |                    |                 |                 |                 |             |                 |           |                 |   |   |   |\n",
    "|                      | Chaplin's New Film Due                                                                                                                                                                                                                                                                               | 1931-01-04 | B14       |                                                                  | Charlie Chaplin   | Charlie Chaplin | Frederick Lonsdale             | Charlie Chaplin | Charlie Chaplin | Joseph Grimaldi | Joseph Grimaldi   | Frederick Lonsdale | Charlie Chaplin | H. L. Gumbiner  |                 |             |                 |           |                 |   |   |   |\n",
    "| \"Scheuer, Philip K.\" | \"THEATER IDEAL SOON TO OPEN: City's New Showhouse Built on, Unique Specification Many Innovations Apparent With Completion Near Screen Miniatures Show Film in Lounges of House\"                                                                                                                     | 1931-01-18 | NaN–NaN   | THEATER IDEAL SOON TO OPEN                                       | Philip K. Scheuer | H. L. Gumbiner  | S. Charles Lee                 | H. L. Gumbiner  | Louis XIV       |                 |                   |                    |                 |                 |                 |             |                 |           |                 |   |   |   |\n",
    "|                      | Business Men Pay Tribute to New Showhouse                                                                                                                                                                                                                                                            | 1931-01-29 | A8        |                                                                  | H. L. Gumbiner    | N. P. Alexander | H. L. Gumbiner                 | Charlie Chaplin |                 |                 |                   |                    |                 |                 |                 |             |                 |           |                 |   |   |   |\n",
    "|                      | \"'CITY LIGHTS' NO ORDINARY FILM: First Silent Picture Since \"\"Talkies\"\" Came in Play                                                                                                                                                                                                                  | 1931-01-29  | A8       | All Charlie Chaplin's Cinema World Buys First Tickets by Blocks\"               | Charlie Chaplin | Charlie Chaplin | Charlie Chaplin | Virginia Cherrill | Harry Myers        | Hank Mann       | Allan Garcia    | Florence Lee    |             |                 |           |                 |   |   |   |\n",
    "|                      | \"LOS ANGELES THEATER OPENS TOMORROW NIGHT: Chaplin's \"\"City Lights\"\" Will Be Given Premiere in New Film Palace of Unrivalled Beauty\"                                                                                                                                                                 | 1931-01-29 | A8        | LOS ANGELES THEATER OPENS TOMORROW NIGHT                         | Charlie Chaplin   | Charlie Chaplin | Francis Peace                  | Dr. Michelson   | S. Charles Lee  | S. Charles Lee  | S. Charles Lee    | H. L. Gumbiner     |                 |                 |                 |             |                 |           |                 |   |   |   |\n",
    "| \"Schallert, Edwin\"   | Premiere Jams Broadway                                                                                                                                                                                                                                                                               | 1931-02-02 | A7        |                                                                  | Edwin Schallert   | Charlie Chaplin | Charlie Chaplin                | Charlie Chaplin | Charlie Chaplin | Charlie Chaplin | Charlie Chaplin   | Charlie Chaplin    | Charlie Chaplin | Charlie Chaplin | Charlie Chaplin | Harry Myers | Charlie Chaplin | Hank Mann | Charlie Chaplin |   |   |   |\n",
    "|                      | Preview Pandemonium                                                                                                                                                                                                                                                                                  | 1931-02-02 | A4        |                                                                  | Charlie Chaplin   |                 |                                |                 |                 |                 |                   |                    |                 |                 |                 |             |                 |           |                 |   |   |   |\n",
    "|                      | \"FIRST WEEK OF COLMAN FILM ENDS: \"\"The Devil to Pay\"\" at United Artists Proves Popular Vehicle\"                                                                                                                                                                                                      | 1931-02-12 | 7         | FIRST WEEK OF COLMAN FILM ENDS                                   | Charlie Chaplin   |                 |                                |                 |                 |                 |                   |                    |                 |                 |                 |             |                 |           |                 |   |   |   |\n",
    "|                      | \"WHAT'S NEW IN SCIENCE: Conducted by Ransome Sutton University of California Is Developing New Acoustic Methods in Underground Room Series of Experiments. Dr. Pease Devises Sideshow for Theater Smokers, Deflecting Light from Main Screen to Smaller One in Smoking Room. Saving Ears and Nerves\" | 1931-03-15 | NaN–NaN   | WHAT'S NEW IN SCIENCE                                            | Ransome Sutton    | Dr. F. G. Pease | Dr. F. G. Pease                | Dr. F. G. Pease | Prof. Einstein  | Dr. F. G. Pease | Prof. Einstein    | Charlie Chaplin    |                 |                 |                 |             |                 |           |                 |   |   |   |\n"
   ]
  },
  {
   "cell_type": "markdown",
   "id": "8a9d10f5-c9fc-4fd5-99f6-13c75cc6620c",
   "metadata": {},
   "source": [
    "#### 3. <em>The source and the target in both Tower Theatre and Los Angeles Theatre</em>"
   ]
  },
  {
   "cell_type": "markdown",
   "id": "f4b6c21d-16c6-44fb-83fb-8842570bd253",
   "metadata": {},
   "source": [
    "| Source                 | Target                  |\n",
    "|------------------------|-------------------------|\n",
    "| \"‘Charlie Chaplin’, \"  | \" ‘Edwin Schallert’,\"   |\n",
    "| \"‘Hank Mann’,\"         | \" ‘Edwin Schallert’,\"   |\n",
    "| \"‘Harry Myers’,\"       | \" ‘Edwin Schallert’,\"   |\n",
    "| \"‘Charlie Chaplin’, \"  | \"‘Allan Garcia’,\"       |\n",
    "| \"‘Dr. F. G. Pease’,\"   | \"‘Charlie Chaplin’, \"   |\n",
    "| \"‘Dr. F. G. Pease’,\"   | \"‘Charlie Chaplin’, \"   |\n",
    "| \"‘H. L. Gumbiner’,\"    | \"‘Charlie Chaplin’, \"   |\n",
    "| \"‘Ransome Sutton’,\"    | \"‘Charlie Chaplin’, \"   |\n",
    "| \"‘Ransome Sutton’,\"    | \"‘Dr. F. G. Pease’,\"    |\n",
    "| \"‘Charlie Chaplin’, \"  | \"‘Dr. Michelson’, \"     |\n",
    "| \"‘Charlie Chaplin’, \"  | \"‘Florence Lee’,\"       |\n",
    "| \"‘Charlie Chaplin’, \"  | \"Francis Peace’, \"      |\n",
    "| \"‘Charlie Chaplin’, \"  | \"‘Frederick Lonsdale’,\" |\n",
    "| \"‘Joseph Grimaldi’,\"   | \"‘Frederick Lonsdale’,\" |\n",
    "| \"’S. Charles Lee’,\"    | \"‘H. L. Gumbiner’,\"     |\n",
    "| \"‘Edwardes Sprout’,\"   | \"‘H. L. Gumbiner’,\"     |\n",
    "| \"‘Charlie Chaplin’, \"  | \"‘Hank Mann’,\"          |\n",
    "| \"‘Virginia Cherrill’,\" | \"‘Hank Mann’,\"          |\n",
    "| \"‘Allan Garcia’,\"      | \"‘Hank Mann’,\"          |\n",
    "| \"‘Allan Garcia’,\"      | \"‘Harry Myers’,\"        |\n",
    "| \"‘Charlie Chaplin’, \"  | \"‘Harry Myers’,\"        |\n",
    "| \"‘Hank Mann’,\"         | \"‘Harry Myers’,\"        |\n",
    "| \"‘Virginia Cherrill’,\" | \"‘Harry Myers’,\"        |\n",
    "| \"‘Charlie Chaplin’, \"  | \"‘Joseph Grimaldi’,\"    |\n",
    "| \"‘H. L. Gumbiner’,\"    | \"‘Louis XIV’,\"          |\n",
    "| \"’S. Charles Lee’,\"    | \"‘Louis XIV’,\"          |\n",
    "| \"‘Charlie Chaplin’, \"  | \"'N. P. Alexander’,\"    |\n",
    "| \"‘H. L. Gumbiner’,\"    | \"'N. P. Alexander’,\"    |\n",
    "| \"‘Charlie Chaplin’, \"  | \"‘Prof. Einstein’,\"     |\n",
    "| \"‘Dr. F. G. Pease’,\"   | \"‘Prof. Einstein’,\"     |\n",
    "| \"‘Ransome Sutton’,\"    | \"‘Prof. Einstein’,\"     |\n",
    "| \"’S. Charles Lee’,\"    | \"‘R. E. Campbell’,\"     |\n",
    "| \"‘Charlie Chaplin’, \"  | \"’S. Charles Lee’,\"     |\n",
    "| \"‘Allan Garcia’,\"      | \"‘Virginia Cherrill’,\"  |\n",
    "| \"‘Charlie Chaplin’, \"  | \"‘Virginia Cherrill’,\"  |"
   ]
  },
  {
   "cell_type": "markdown",
   "id": "ea35bd76-d8a3-4c10-8c48-fc7f3cde898c",
   "metadata": {},
   "source": [
    "\n",
    "### Scope and Expected results\n",
    "In this coding project, I first calculated how many people were involved in these two theatres in 1927 and 1931, respectively. I used for loop to iterate through names that I collected from archives, resulting in a list that consists of names without repetition. This list shows how many people were related to the establishment of these two theatres. However, not everyone played an equally significant role during this process. In order to better understand each person's individual significance within this network, I imported the python libraries NLTK, Pandas, and Numpy to calculate the frequency of these names and plot the frequeucy of them to showcase who are more influential than others. \n",
    "\n",
    "Additionally, I created a list with people's names that exhibits the source and the target, and then I used the Python library, Bokeh, to plot two interactive images of the social network between people who were involved in these two buildings. The first image plainly shows the network among the source and the target. For the second image, with the color distinguishing different communities, the image shows that there were four communities surrounding the building process and the gala opening of Tower Theatre and Los Angeles Theatre: 1) the actor community, leading with Charlie Chaplin, 2) the scientists community, such as Dr. Pease and Prof. Einestein, 3) the theater buildings' manager and architect, such as Gumbiner and Lee, and 4) other figures that were relatively marginal during this process. \n"
   ]
  },
  {
   "cell_type": "markdown",
   "id": "ecec886f-4268-46d6-87a3-7996abc20a9d",
   "metadata": {},
   "source": [
    "***"
   ]
  },
  {
   "cell_type": "code",
   "execution_count": 1,
   "id": "ad95107c-b0ab-482f-a69a-677ebbda228a",
   "metadata": {},
   "outputs": [],
   "source": [
    "#hide\n",
    "## Introduction of Data"
   ]
  },
  {
   "cell_type": "code",
   "execution_count": 2,
   "id": "b3203416-7e82-4cba-bc52-a8887ed85a2f",
   "metadata": {},
   "outputs": [],
   "source": [
    "Tower_List = ['S. Charles Lee', 'S. Charles Lee', 'H. L. Gumbiner', 'S. Charles Lee', 'S. Charles Lee', 'H. L. Gumbiner', 'S. Charles Lee', 'S. Charles Lee', 'S. Charles Lee', 'S. Charles Lee', 'S. Charles Lee', 'R. E. Campbell', 'H. L. Gumbiner','H. L. Gumbiner', 'S. Charles Lee', 'H. L. Gumbiner', 'Edwardes Sprout', 'Edwardes Sprout', 'H. L. Gumbiner', 'Sam Warner']"
   ]
  },
  {
   "cell_type": "code",
   "execution_count": 3,
   "id": "3af120a8-1f27-4b06-8317-20b557271e52",
   "metadata": {},
   "outputs": [],
   "source": [
    "LA_List = ['H. L. Gumbiner', 'Charlie Chaplin', 'S. Charles Lee', 'Charlie Chaplin', 'Charlie Chaplin', 'Frederick Lonsdale', 'Charlie Chaplin', 'Charlie Chaplin', 'Joseph Grimaldi', 'Joseph Grimaldi', 'Frederick Lonsdale', 'Charlie Chaplin', 'H. L. Gumbiner', 'Philip K. Scheuer', 'H. L. Gumbiner', 'S. Charles Lee', 'H. L. Gumbiner', 'Louis XIV','H. L. Gumbiner', 'N. P. Alexander', 'H. L. Gumbiner', 'Charlie Chaplin', 'Charlie Chaplin', 'Charlie Chaplin', 'Charlie Chaplin', 'Virginia Cherrill', 'Harry Myers', 'Hank Mann', 'Allan Garcia', 'Florence Lee', 'Charlie Chaplin', 'Charlie Chaplin', 'Francis Peace', 'Dr. Michelson', 'S. Charles Lee', 'S. Charles Lee', 'S. Charles Lee', 'H. L. Gumbiner','Edwin Schallert', 'Charlie Chaplin', 'Charlie Chaplin', 'Charlie Chaplin', 'Charlie Chaplin', 'Charlie Chaplin', 'Charlie Chaplin', 'Charlie Chaplin', 'Charlie Chaplin', 'Charlie Chaplin', 'Charlie Chaplin', 'Harry Myers', 'Charlie Chaplin', 'Hank Mann', 'Charlie Chaplin', 'Charlie Chaplin', 'Charlie Chaplin', 'Ransome Sutton', 'Dr. F. G. Pease', 'Dr. F. G. Pease', 'Dr. F. G. Pease', 'Prof. Einstein', 'Dr. F. G. Pease', 'Prof. Einstein', 'Charlie Chaplin']"
   ]
  },
  {
   "cell_type": "code",
   "execution_count": 4,
   "id": "e3775ef2-7bd2-4103-9964-a32c93c87249",
   "metadata": {},
   "outputs": [
    {
     "data": {
      "text/plain": [
       "20"
      ]
     },
     "execution_count": 4,
     "metadata": {},
     "output_type": "execute_result"
    }
   ],
   "source": [
    "#hide\n",
    "len(Tower_List)"
   ]
  },
  {
   "cell_type": "code",
   "execution_count": 5,
   "id": "471e2eeb-df66-47ff-a544-a8ab217d68b7",
   "metadata": {},
   "outputs": [
    {
     "data": {
      "text/plain": [
       "63"
      ]
     },
     "execution_count": 5,
     "metadata": {},
     "output_type": "execute_result"
    }
   ],
   "source": [
    "#hide\n",
    "len(LA_List)"
   ]
  },
  {
   "cell_type": "code",
   "execution_count": 6,
   "id": "64af572b-2ad2-4644-9793-b7d3717a8794",
   "metadata": {},
   "outputs": [],
   "source": [
    "Tower_List_notrepeat = []\n",
    "for people in Tower_List:\n",
    "    if people not in Tower_List_notrepeat:\n",
    "        Tower_List_notrepeat.append(people)"
   ]
  },
  {
   "cell_type": "code",
   "execution_count": 7,
   "id": "cb76157c-be0e-420e-827f-956578b946f2",
   "metadata": {},
   "outputs": [
    {
     "name": "stdout",
     "output_type": "stream",
     "text": [
      "['Edwardes Sprout', 'H. L. Gumbiner', 'R. E. Campbell', 'S. Charles Lee', 'Sam Warner']\n"
     ]
    }
   ],
   "source": [
    "Tower_List_notrepeat.sort(reverse=False)\n",
    "print(Tower_List_notrepeat)"
   ]
  },
  {
   "cell_type": "code",
   "execution_count": 8,
   "id": "7db63960-1816-4c08-afc3-e6eeae911255",
   "metadata": {},
   "outputs": [
    {
     "data": {
      "text/plain": [
       "5"
      ]
     },
     "execution_count": 8,
     "metadata": {},
     "output_type": "execute_result"
    }
   ],
   "source": [
    "len(Tower_List_notrepeat)"
   ]
  },
  {
   "cell_type": "code",
   "execution_count": 9,
   "id": "ae5aef63-9e6c-4f56-a6b6-7fee092f6c22",
   "metadata": {},
   "outputs": [],
   "source": [
    "LA_List_notrepeat = []\n",
    "for people in LA_List:\n",
    "    if people not in LA_List_notrepeat:\n",
    "        LA_List_notrepeat.append(people)"
   ]
  },
  {
   "cell_type": "code",
   "execution_count": 10,
   "id": "92fdd5c9-c52b-4a02-b187-48b2be4aea6b",
   "metadata": {},
   "outputs": [
    {
     "name": "stdout",
     "output_type": "stream",
     "text": [
      "['Allan Garcia', 'Charlie Chaplin', 'Dr. F. G. Pease', 'Dr. Michelson', 'Edwin Schallert', 'Florence Lee', 'Francis Peace', 'Frederick Lonsdale', 'H. L. Gumbiner', 'Hank Mann', 'Harry Myers', 'Joseph Grimaldi', 'Louis XIV', 'N. P. Alexander', 'Philip K. Scheuer', 'Prof. Einstein', 'Ransome Sutton', 'S. Charles Lee', 'Virginia Cherrill']\n"
     ]
    }
   ],
   "source": [
    "LA_List_notrepeat.sort(reverse=False)\n",
    "print(LA_List_notrepeat)"
   ]
  },
  {
   "cell_type": "code",
   "execution_count": 11,
   "id": "b57bbcb0-7132-41e6-a69f-a80e9cf50c7a",
   "metadata": {},
   "outputs": [
    {
     "data": {
      "text/plain": [
       "19"
      ]
     },
     "execution_count": 11,
     "metadata": {},
     "output_type": "execute_result"
    }
   ],
   "source": [
    "len(LA_List_notrepeat)"
   ]
  },
  {
   "cell_type": "code",
   "execution_count": 12,
   "id": "f3c9b6b8-7164-4607-a740-3ed0a32f9246",
   "metadata": {},
   "outputs": [],
   "source": [
    "TowerAndLA_List_notrepeat = []\n",
    "for people in Tower_List_notrepeat+LA_List_notrepeat:\n",
    "    if people not in TowerAndLA_List_notrepeat:\n",
    "        TowerAndLA_List_notrepeat.append(people)"
   ]
  },
  {
   "cell_type": "code",
   "execution_count": 13,
   "id": "ac6e1b71-1da5-41f0-854f-8b61e980c64b",
   "metadata": {},
   "outputs": [
    {
     "name": "stdout",
     "output_type": "stream",
     "text": [
      "['Allan Garcia', 'Charlie Chaplin', 'Dr. F. G. Pease', 'Dr. Michelson', 'Edwardes Sprout', 'Edwin Schallert', 'Florence Lee', 'Francis Peace', 'Frederick Lonsdale', 'H. L. Gumbiner', 'Hank Mann', 'Harry Myers', 'Joseph Grimaldi', 'Louis XIV', 'N. P. Alexander', 'Philip K. Scheuer', 'Prof. Einstein', 'R. E. Campbell', 'Ransome Sutton', 'S. Charles Lee', 'Sam Warner', 'Virginia Cherrill']\n"
     ]
    }
   ],
   "source": [
    "TowerAndLA_List_notrepeat.sort(reverse=False)\n",
    "print(TowerAndLA_List_notrepeat)"
   ]
  },
  {
   "cell_type": "code",
   "execution_count": 14,
   "id": "07b2cf01-dd30-4708-96b8-226ae149f53c",
   "metadata": {},
   "outputs": [
    {
     "data": {
      "text/plain": [
       "22"
      ]
     },
     "execution_count": 14,
     "metadata": {},
     "output_type": "execute_result"
    }
   ],
   "source": [
    "len(TowerAndLA_List_notrepeat)"
   ]
  },
  {
   "cell_type": "markdown",
   "id": "7e0871c8-0e23-400f-983e-8a233191ae4f",
   "metadata": {},
   "source": [
    "<strong>In total, there were 23 people involving Tower Theatre and Los Angeles Theater.</strong>"
   ]
  },
  {
   "cell_type": "code",
   "execution_count": 15,
   "id": "30613456-f8fe-45d2-bd89-8e83ef10d259",
   "metadata": {},
   "outputs": [],
   "source": [
    "TowerAndLA_List_REPEAT = []\n",
    "for people in Tower_List_notrepeat and LA_List_notrepeat:\n",
    "    if people in Tower_List_notrepeat and LA_List_notrepeat:\n",
    "        TowerAndLA_List_REPEAT.append(people)"
   ]
  },
  {
   "cell_type": "code",
   "execution_count": 16,
   "id": "1e7a733b-e1fc-4efd-88b8-331c8683ce9b",
   "metadata": {},
   "outputs": [
    {
     "name": "stdout",
     "output_type": "stream",
     "text": [
      "['H. L. Gumbiner', 'S. Charles Lee']\n"
     ]
    }
   ],
   "source": [
    "TowerAndLA_List_REPEAT.sort(reverse=False)\n",
    "print(TowerAndLA_List_REPEAT)"
   ]
  },
  {
   "cell_type": "markdown",
   "id": "53429213-e728-4c4b-9742-a139f49b48eb",
   "metadata": {},
   "source": [
    "<strong>Only H. L. Gumbiner and S.Charles Lee involved in both Tower Theatre and Los Angeles Theater. Gumbiner was the owner of these two theaters; Lee was their architect.</strong>"
   ]
  },
  {
   "cell_type": "code",
   "execution_count": 17,
   "id": "e2fc2287-6993-4716-96ec-2a23f6ddec23",
   "metadata": {},
   "outputs": [],
   "source": [
    "from nltk.probability import FreqDist\n",
    "import pandas as pd\n",
    "import numpy as np"
   ]
  },
  {
   "cell_type": "code",
   "execution_count": 18,
   "id": "ae0aed16-6f92-45cb-8842-ce0255f589a4",
   "metadata": {},
   "outputs": [],
   "source": [
    "#hide\n",
    "freq_Tower= FreqDist(Tower_List)"
   ]
  },
  {
   "cell_type": "code",
   "execution_count": 19,
   "id": "918fd992-1248-4e10-9ed5-a19164d28ab3",
   "metadata": {},
   "outputs": [
    {
     "data": {
      "text/plain": [
       "FreqDist({'S. Charles Lee': 10, 'H. L. Gumbiner': 6, 'Edwardes Sprout': 2, 'R. E. Campbell': 1, 'Sam Warner': 1})"
      ]
     },
     "execution_count": 19,
     "metadata": {},
     "output_type": "execute_result"
    }
   ],
   "source": [
    "#hide\n",
    "freq_Tower"
   ]
  },
  {
   "cell_type": "code",
   "execution_count": 20,
   "id": "fe5be1b4-27bc-4c88-8e00-3cccd30a8f7d",
   "metadata": {},
   "outputs": [],
   "source": [
    "df_Tower = pd.DataFrame(Tower_List)"
   ]
  },
  {
   "cell_type": "code",
   "execution_count": 21,
   "id": "9c5e728e-f3f6-48d5-bb20-3107cfd6cf23",
   "metadata": {},
   "outputs": [],
   "source": [
    "df_Tower.columns = ['Name']"
   ]
  },
  {
   "cell_type": "code",
   "execution_count": 22,
   "id": "849a42e2-9472-4fe9-af8e-cd0d94759206",
   "metadata": {},
   "outputs": [
    {
     "data": {
      "text/html": [
       "<div>\n",
       "<style scoped>\n",
       "    .dataframe tbody tr th:only-of-type {\n",
       "        vertical-align: middle;\n",
       "    }\n",
       "\n",
       "    .dataframe tbody tr th {\n",
       "        vertical-align: top;\n",
       "    }\n",
       "\n",
       "    .dataframe thead th {\n",
       "        text-align: right;\n",
       "    }\n",
       "</style>\n",
       "<table border=\"1\" class=\"dataframe\">\n",
       "  <thead>\n",
       "    <tr style=\"text-align: right;\">\n",
       "      <th></th>\n",
       "      <th>Name</th>\n",
       "    </tr>\n",
       "  </thead>\n",
       "  <tbody>\n",
       "    <tr>\n",
       "      <th>0</th>\n",
       "      <td>S. Charles Lee</td>\n",
       "    </tr>\n",
       "    <tr>\n",
       "      <th>1</th>\n",
       "      <td>S. Charles Lee</td>\n",
       "    </tr>\n",
       "    <tr>\n",
       "      <th>2</th>\n",
       "      <td>H. L. Gumbiner</td>\n",
       "    </tr>\n",
       "    <tr>\n",
       "      <th>3</th>\n",
       "      <td>S. Charles Lee</td>\n",
       "    </tr>\n",
       "    <tr>\n",
       "      <th>4</th>\n",
       "      <td>S. Charles Lee</td>\n",
       "    </tr>\n",
       "    <tr>\n",
       "      <th>5</th>\n",
       "      <td>H. L. Gumbiner</td>\n",
       "    </tr>\n",
       "    <tr>\n",
       "      <th>6</th>\n",
       "      <td>S. Charles Lee</td>\n",
       "    </tr>\n",
       "    <tr>\n",
       "      <th>7</th>\n",
       "      <td>S. Charles Lee</td>\n",
       "    </tr>\n",
       "    <tr>\n",
       "      <th>8</th>\n",
       "      <td>S. Charles Lee</td>\n",
       "    </tr>\n",
       "    <tr>\n",
       "      <th>9</th>\n",
       "      <td>S. Charles Lee</td>\n",
       "    </tr>\n",
       "    <tr>\n",
       "      <th>10</th>\n",
       "      <td>S. Charles Lee</td>\n",
       "    </tr>\n",
       "    <tr>\n",
       "      <th>11</th>\n",
       "      <td>R. E. Campbell</td>\n",
       "    </tr>\n",
       "    <tr>\n",
       "      <th>12</th>\n",
       "      <td>H. L. Gumbiner</td>\n",
       "    </tr>\n",
       "    <tr>\n",
       "      <th>13</th>\n",
       "      <td>H. L. Gumbiner</td>\n",
       "    </tr>\n",
       "    <tr>\n",
       "      <th>14</th>\n",
       "      <td>S. Charles Lee</td>\n",
       "    </tr>\n",
       "    <tr>\n",
       "      <th>15</th>\n",
       "      <td>H. L. Gumbiner</td>\n",
       "    </tr>\n",
       "    <tr>\n",
       "      <th>16</th>\n",
       "      <td>Edwardes Sprout</td>\n",
       "    </tr>\n",
       "    <tr>\n",
       "      <th>17</th>\n",
       "      <td>Edwardes Sprout</td>\n",
       "    </tr>\n",
       "    <tr>\n",
       "      <th>18</th>\n",
       "      <td>H. L. Gumbiner</td>\n",
       "    </tr>\n",
       "    <tr>\n",
       "      <th>19</th>\n",
       "      <td>Sam Warner</td>\n",
       "    </tr>\n",
       "  </tbody>\n",
       "</table>\n",
       "</div>"
      ],
      "text/plain": [
       "               Name\n",
       "0    S. Charles Lee\n",
       "1    S. Charles Lee\n",
       "2    H. L. Gumbiner\n",
       "3    S. Charles Lee\n",
       "4    S. Charles Lee\n",
       "5    H. L. Gumbiner\n",
       "6    S. Charles Lee\n",
       "7    S. Charles Lee\n",
       "8    S. Charles Lee\n",
       "9    S. Charles Lee\n",
       "10   S. Charles Lee\n",
       "11   R. E. Campbell\n",
       "12   H. L. Gumbiner\n",
       "13   H. L. Gumbiner\n",
       "14   S. Charles Lee\n",
       "15   H. L. Gumbiner\n",
       "16  Edwardes Sprout\n",
       "17  Edwardes Sprout\n",
       "18   H. L. Gumbiner\n",
       "19       Sam Warner"
      ]
     },
     "execution_count": 22,
     "metadata": {},
     "output_type": "execute_result"
    }
   ],
   "source": [
    "df_Tower"
   ]
  },
  {
   "cell_type": "code",
   "execution_count": 23,
   "id": "cc49ce8a-98db-4fe3-a98a-7d0a02a9a307",
   "metadata": {},
   "outputs": [
    {
     "data": {
      "text/plain": [
       "<AxesSubplot:ylabel='Name'>"
      ]
     },
     "execution_count": 23,
     "metadata": {},
     "output_type": "execute_result"
    },
    {
     "data": {
      "image/png": "[encoded data removed]",
      "text/plain": [
       "<Figure size 432x288 with 1 Axes>"
      ]
     },
     "metadata": {
      "needs_background": "light"
     },
     "output_type": "display_data"
    }
   ],
   "source": [
    "df_Tower.groupby('Name').size().plot.barh()"
   ]
  },
  {
   "cell_type": "code",
   "execution_count": 24,
   "id": "12bf5b4c-ab0c-4aa1-a7cd-cf91f6cc6483",
   "metadata": {},
   "outputs": [],
   "source": [
    "#hide\n",
    "freq_LA= FreqDist(LA_List)"
   ]
  },
  {
   "cell_type": "code",
   "execution_count": 25,
   "id": "293b990c-80ae-4575-b7ae-015be1d5cb05",
   "metadata": {},
   "outputs": [
    {
     "data": {
      "text/plain": [
       "FreqDist({'Charlie Chaplin': 27, 'H. L. Gumbiner': 7, 'S. Charles Lee': 5, 'Dr. F. G. Pease': 4, 'Frederick Lonsdale': 2, 'Joseph Grimaldi': 2, 'Harry Myers': 2, 'Hank Mann': 2, 'Prof. Einstein': 2, 'Philip K. Scheuer': 1, ...})"
      ]
     },
     "execution_count": 25,
     "metadata": {},
     "output_type": "execute_result"
    }
   ],
   "source": [
    "#hide\n",
    "freq_LA"
   ]
  },
  {
   "cell_type": "code",
   "execution_count": 26,
   "id": "f040b658-4c0a-4cca-83c4-6cf27f1077e9",
   "metadata": {},
   "outputs": [],
   "source": [
    "df_LA = pd.DataFrame(LA_List)"
   ]
  },
  {
   "cell_type": "code",
   "execution_count": 27,
   "id": "2bb84722-1b68-4a68-bcab-883a78d6722b",
   "metadata": {},
   "outputs": [],
   "source": [
    "df_LA.columns = ['Name']"
   ]
  },
  {
   "cell_type": "code",
   "execution_count": 28,
   "id": "c88ec1d1-46f0-43ff-af69-353b0c302d64",
   "metadata": {},
   "outputs": [
    {
     "data": {
      "text/html": [
       "<div>\n",
       "<style scoped>\n",
       "    .dataframe tbody tr th:only-of-type {\n",
       "        vertical-align: middle;\n",
       "    }\n",
       "\n",
       "    .dataframe tbody tr th {\n",
       "        vertical-align: top;\n",
       "    }\n",
       "\n",
       "    .dataframe thead th {\n",
       "        text-align: right;\n",
       "    }\n",
       "</style>\n",
       "<table border=\"1\" class=\"dataframe\">\n",
       "  <thead>\n",
       "    <tr style=\"text-align: right;\">\n",
       "      <th></th>\n",
       "      <th>Name</th>\n",
       "    </tr>\n",
       "  </thead>\n",
       "  <tbody>\n",
       "    <tr>\n",
       "      <th>0</th>\n",
       "      <td>H. L. Gumbiner</td>\n",
       "    </tr>\n",
       "    <tr>\n",
       "      <th>1</th>\n",
       "      <td>Charlie Chaplin</td>\n",
       "    </tr>\n",
       "    <tr>\n",
       "      <th>2</th>\n",
       "      <td>S. Charles Lee</td>\n",
       "    </tr>\n",
       "    <tr>\n",
       "      <th>3</th>\n",
       "      <td>Charlie Chaplin</td>\n",
       "    </tr>\n",
       "    <tr>\n",
       "      <th>4</th>\n",
       "      <td>Charlie Chaplin</td>\n",
       "    </tr>\n",
       "    <tr>\n",
       "      <th>...</th>\n",
       "      <td>...</td>\n",
       "    </tr>\n",
       "    <tr>\n",
       "      <th>58</th>\n",
       "      <td>Dr. F. G. Pease</td>\n",
       "    </tr>\n",
       "    <tr>\n",
       "      <th>59</th>\n",
       "      <td>Prof. Einstein</td>\n",
       "    </tr>\n",
       "    <tr>\n",
       "      <th>60</th>\n",
       "      <td>Dr. F. G. Pease</td>\n",
       "    </tr>\n",
       "    <tr>\n",
       "      <th>61</th>\n",
       "      <td>Prof. Einstein</td>\n",
       "    </tr>\n",
       "    <tr>\n",
       "      <th>62</th>\n",
       "      <td>Charlie Chaplin</td>\n",
       "    </tr>\n",
       "  </tbody>\n",
       "</table>\n",
       "<p>63 rows × 1 columns</p>\n",
       "</div>"
      ],
      "text/plain": [
       "               Name\n",
       "0    H. L. Gumbiner\n",
       "1   Charlie Chaplin\n",
       "2    S. Charles Lee\n",
       "3   Charlie Chaplin\n",
       "4   Charlie Chaplin\n",
       "..              ...\n",
       "58  Dr. F. G. Pease\n",
       "59   Prof. Einstein\n",
       "60  Dr. F. G. Pease\n",
       "61   Prof. Einstein\n",
       "62  Charlie Chaplin\n",
       "\n",
       "[63 rows x 1 columns]"
      ]
     },
     "execution_count": 28,
     "metadata": {},
     "output_type": "execute_result"
    }
   ],
   "source": [
    "df_LA"
   ]
  },
  {
   "cell_type": "code",
   "execution_count": 29,
   "id": "e3a7cf78-5788-4433-95e7-448f14311e70",
   "metadata": {},
   "outputs": [
    {
     "data": {
      "text/plain": [
       "<AxesSubplot:ylabel='Name'>"
      ]
     },
     "execution_count": 29,
     "metadata": {},
     "output_type": "execute_result"
    },
    {
     "data": {
      "image/png": "[encoded data removed]",
      "text/plain": [
       "<Figure size 432x288 with 1 Axes>"
      ]
     },
     "metadata": {
      "needs_background": "light"
     },
     "output_type": "display_data"
    }
   ],
   "source": [
    "df_LA.groupby('Name').size().plot.barh()"
   ]
  },
  {
   "cell_type": "code",
   "execution_count": 30,
   "id": "1820bee9-2e9b-4d04-9ead-6dcd506ccf2e",
   "metadata": {},
   "outputs": [],
   "source": [
    "freq_TowerAndLA= FreqDist(Tower_List+LA_List)"
   ]
  },
  {
   "cell_type": "code",
   "execution_count": 31,
   "id": "e3e559e4-a7cc-467e-a4fa-9e2cbaec868d",
   "metadata": {},
   "outputs": [
    {
     "data": {
      "text/plain": [
       "FreqDist({'Charlie Chaplin': 27, 'S. Charles Lee': 15, 'H. L. Gumbiner': 13, 'Dr. F. G. Pease': 4, 'Edwardes Sprout': 2, 'Frederick Lonsdale': 2, 'Joseph Grimaldi': 2, 'Harry Myers': 2, 'Hank Mann': 2, 'Prof. Einstein': 2, ...})"
      ]
     },
     "execution_count": 31,
     "metadata": {},
     "output_type": "execute_result"
    }
   ],
   "source": [
    "freq_TowerAndLA"
   ]
  },
  {
   "cell_type": "code",
   "execution_count": 32,
   "id": "f03a0803-2332-4ec9-8902-cac83dc2be5f",
   "metadata": {},
   "outputs": [
    {
     "name": "stdout",
     "output_type": "stream",
     "text": [
      "Charlie Chaplin 27\n",
      "S. Charles Lee 15\n",
      "H. L. Gumbiner 13\n",
      "Dr. F. G. Pease 4\n",
      "Edwardes Sprout 2\n",
      "Frederick Lonsdale 2\n",
      "Joseph Grimaldi 2\n",
      "Harry Myers 2\n",
      "Hank Mann 2\n",
      "Prof. Einstein 2\n",
      "R. E. Campbell 1\n",
      "Sam Warner 1\n",
      "Philip K. Scheuer 1\n",
      "Louis XIV 1\n",
      "N. P. Alexander 1\n",
      "Virginia Cherrill 1\n",
      "Allan Garcia 1\n",
      "Florence Lee 1\n",
      "Francis Peace 1\n",
      "Dr. Michelson 1\n",
      "Edwin Schallert 1\n",
      "Ransome Sutton 1\n"
     ]
    }
   ],
   "source": [
    "for people in sorted(freq_TowerAndLA, key=freq_TowerAndLA.get, reverse=True)[:]:\n",
    "    print(people,freq_TowerAndLA[people])"
   ]
  },
  {
   "cell_type": "code",
   "execution_count": 33,
   "id": "4bbf8193-df82-4e87-b075-9e4e8d9a6158",
   "metadata": {},
   "outputs": [],
   "source": [
    "df_TowerAndLA = pd.DataFrame(Tower_List+LA_List)"
   ]
  },
  {
   "cell_type": "code",
   "execution_count": 34,
   "id": "4a738999-a2c0-4805-9971-06b7d6745a97",
   "metadata": {},
   "outputs": [
    {
     "data": {
      "text/html": [
       "<div>\n",
       "<style scoped>\n",
       "    .dataframe tbody tr th:only-of-type {\n",
       "        vertical-align: middle;\n",
       "    }\n",
       "\n",
       "    .dataframe tbody tr th {\n",
       "        vertical-align: top;\n",
       "    }\n",
       "\n",
       "    .dataframe thead th {\n",
       "        text-align: right;\n",
       "    }\n",
       "</style>\n",
       "<table border=\"1\" class=\"dataframe\">\n",
       "  <thead>\n",
       "    <tr style=\"text-align: right;\">\n",
       "      <th></th>\n",
       "      <th>Name</th>\n",
       "    </tr>\n",
       "  </thead>\n",
       "  <tbody>\n",
       "    <tr>\n",
       "      <th>0</th>\n",
       "      <td>S. Charles Lee</td>\n",
       "    </tr>\n",
       "    <tr>\n",
       "      <th>1</th>\n",
       "      <td>S. Charles Lee</td>\n",
       "    </tr>\n",
       "    <tr>\n",
       "      <th>2</th>\n",
       "      <td>H. L. Gumbiner</td>\n",
       "    </tr>\n",
       "    <tr>\n",
       "      <th>3</th>\n",
       "      <td>S. Charles Lee</td>\n",
       "    </tr>\n",
       "    <tr>\n",
       "      <th>4</th>\n",
       "      <td>S. Charles Lee</td>\n",
       "    </tr>\n",
       "    <tr>\n",
       "      <th>...</th>\n",
       "      <td>...</td>\n",
       "    </tr>\n",
       "    <tr>\n",
       "      <th>78</th>\n",
       "      <td>Dr. F. G. Pease</td>\n",
       "    </tr>\n",
       "    <tr>\n",
       "      <th>79</th>\n",
       "      <td>Prof. Einstein</td>\n",
       "    </tr>\n",
       "    <tr>\n",
       "      <th>80</th>\n",
       "      <td>Dr. F. G. Pease</td>\n",
       "    </tr>\n",
       "    <tr>\n",
       "      <th>81</th>\n",
       "      <td>Prof. Einstein</td>\n",
       "    </tr>\n",
       "    <tr>\n",
       "      <th>82</th>\n",
       "      <td>Charlie Chaplin</td>\n",
       "    </tr>\n",
       "  </tbody>\n",
       "</table>\n",
       "<p>83 rows × 1 columns</p>\n",
       "</div>"
      ],
      "text/plain": [
       "               Name\n",
       "0    S. Charles Lee\n",
       "1    S. Charles Lee\n",
       "2    H. L. Gumbiner\n",
       "3    S. Charles Lee\n",
       "4    S. Charles Lee\n",
       "..              ...\n",
       "78  Dr. F. G. Pease\n",
       "79   Prof. Einstein\n",
       "80  Dr. F. G. Pease\n",
       "81   Prof. Einstein\n",
       "82  Charlie Chaplin\n",
       "\n",
       "[83 rows x 1 columns]"
      ]
     },
     "execution_count": 34,
     "metadata": {},
     "output_type": "execute_result"
    }
   ],
   "source": [
    "df_TowerAndLA.columns = ['Name']\n",
    "df_TowerAndLA"
   ]
  },
  {
   "cell_type": "code",
   "execution_count": 35,
   "id": "cc774700-e7af-4432-94f8-7761e252908d",
   "metadata": {},
   "outputs": [
    {
     "data": {
      "text/plain": [
       "<AxesSubplot:ylabel='Name'>"
      ]
     },
     "execution_count": 35,
     "metadata": {},
     "output_type": "execute_result"
    },
    {
     "data": {
      "image/png": "[encoded data removed]",
      "text/plain": [
       "<Figure size 432x288 with 1 Axes>"
      ]
     },
     "metadata": {
      "needs_background": "light"
     },
     "output_type": "display_data"
    }
   ],
   "source": [
    "df_TowerAndLA.groupby('Name').size().plot.barh()"
   ]
  },
  {
   "cell_type": "markdown",
   "id": "68d6ea33-b33b-4ae8-80a2-c40fa422748e",
   "metadata": {},
   "source": [
    "## Network Analysis "
   ]
  },
  {
   "cell_type": "code",
   "execution_count": 36,
   "id": "900afe71-c4d7-45a6-8961-e24d1b86cdad",
   "metadata": {},
   "outputs": [
    {
     "data": {
      "text/html": [
       "\n",
       "    <div class=\"bk-root\">\n",
       "        <a href=\"https://bokeh.org\" target=\"_blank\" class=\"bk-logo bk-logo-small bk-logo-notebook\"></a>\n",
       "        <span id=\"1002\">Loading BokehJS ...</span>\n",
       "    </div>"
      ]
     },
     "metadata": {},
     "output_type": "display_data"
    },
    {
     "data": {
      "application/javascript": [
       "\n",
       "(function(root) {\n",
       "  function now() {\n",
       "    return new Date();\n",
       "  }\n",
       "\n",
       "  const force = true;\n",
       "\n",
       "  if (typeof root._bokeh_onload_callbacks === \"undefined\" || force === true) {\n",
       "    root._bokeh_onload_callbacks = [];\n",
       "    root._bokeh_is_loading = undefined;\n",
       "  }\n",
       "\n",
       "  const JS_MIME_TYPE = 'application/javascript';\n",
       "  const HTML_MIME_TYPE = 'text/html';\n",
       "  const EXEC_MIME_TYPE = 'application/vnd.bokehjs_exec.v0+json';\n",
       "  const CLASS_NAME = 'output_bokeh rendered_html';\n",
       "\n",
       "  /**\n",
       "   * Render data to the DOM node\n",
       "   */\n",
       "  function render(props, node) {\n",
       "    const script = document.createElement(\"script\");\n",
       "    node.appendChild(script);\n",
       "  }\n",
       "\n",
       "  /**\n",
       "   * Handle when an output is cleared or removed\n",
       "   */\n",
       "  function handleClearOutput(event, handle) {\n",
       "    const cell = handle.cell;\n",
       "\n",
       "    const id = cell.output_area._bokeh_element_id;\n",
       "    const server_id = cell.output_area._bokeh_server_id;\n",
       "    // Clean up Bokeh references\n",
       "    if (id != null && id in Bokeh.index) {\n",
       "      Bokeh.index[id].model.document.clear();\n",
       "      delete Bokeh.index[id];\n",
       "    }\n",
       "\n",
       "    if (server_id !== undefined) {\n",
       "      // Clean up Bokeh references\n",
       "      const cmd_clean = \"from bokeh.io.state import curstate; print(curstate().uuid_to_server['\" + server_id + \"'].get_sessions()[0].document.roots[0]._id)\";\n",
       "      cell.notebook.kernel.execute(cmd_clean, {\n",
       "        iopub: {\n",
       "          output: function(msg) {\n",
       "            const id = msg.content.text.trim();\n",
       "            if (id in Bokeh.index) {\n",
       "              Bokeh.index[id].model.document.clear();\n",
       "              delete Bokeh.index[id];\n",
       "            }\n",
       "          }\n",
       "        }\n",
       "      });\n",
       "      // Destroy server and session\n",
       "      const cmd_destroy = \"import bokeh.io.notebook as ion; ion.destroy_server('\" + server_id + \"')\";\n",
       "      cell.notebook.kernel.execute(cmd_destroy);\n",
       "    }\n",
       "  }\n",
       "\n",
       "  /**\n",
       "   * Handle when a new output is added\n",
       "   */\n",
       "  function handleAddOutput(event, handle) {\n",
       "    const output_area = handle.output_area;\n",
       "    const output = handle.output;\n",
       "\n",
       "    // limit handleAddOutput to display_data with EXEC_MIME_TYPE content only\n",
       "    if ((output.output_type != \"display_data\") || (!Object.prototype.hasOwnProperty.call(output.data, EXEC_MIME_TYPE))) {\n",
       "      return\n",
       "    }\n",
       "\n",
       "    const toinsert = output_area.element.find(\".\" + CLASS_NAME.split(' ')[0]);\n",
       "\n",
       "    if (output.metadata[EXEC_MIME_TYPE][\"id\"] !== undefined) {\n",
       "      toinsert[toinsert.length - 1].firstChild.textContent = output.data[JS_MIME_TYPE];\n",
       "      // store reference to embed id on output_area\n",
       "      output_area._bokeh_element_id = output.metadata[EXEC_MIME_TYPE][\"id\"];\n",
       "    }\n",
       "    if (output.metadata[EXEC_MIME_TYPE][\"server_id\"] !== undefined) {\n",
       "      const bk_div = document.createElement(\"div\");\n",
       "      bk_div.innerHTML = output.data[HTML_MIME_TYPE];\n",
       "      const script_attrs = bk_div.children[0].attributes;\n",
       "      for (let i = 0; i < script_attrs.length; i++) {\n",
       "        toinsert[toinsert.length - 1].firstChild.setAttribute(script_attrs[i].name, script_attrs[i].value);\n",
       "        toinsert[toinsert.length - 1].firstChild.textContent = bk_div.children[0].textContent\n",
       "      }\n",
       "      // store reference to server id on output_area\n",
       "      output_area._bokeh_server_id = output.metadata[EXEC_MIME_TYPE][\"server_id\"];\n",
       "    }\n",
       "  }\n",
       "\n",
       "  function register_renderer(events, OutputArea) {\n",
       "\n",
       "    function append_mime(data, metadata, element) {\n",
       "      // create a DOM node to render to\n",
       "      const toinsert = this.create_output_subarea(\n",
       "        metadata,\n",
       "        CLASS_NAME,\n",
       "        EXEC_MIME_TYPE\n",
       "      );\n",
       "      this.keyboard_manager.register_events(toinsert);\n",
       "      // Render to node\n",
       "      const props = {data: data, metadata: metadata[EXEC_MIME_TYPE]};\n",
       "      render(props, toinsert[toinsert.length - 1]);\n",
       "      element.append(toinsert);\n",
       "      return toinsert\n",
       "    }\n",
       "\n",
       "    /* Handle when an output is cleared or removed */\n",
       "    events.on('clear_output.CodeCell', handleClearOutput);\n",
       "    events.on('delete.Cell', handleClearOutput);\n",
       "\n",
       "    /* Handle when a new output is added */\n",
       "    events.on('output_added.OutputArea', handleAddOutput);\n",
       "\n",
       "    /**\n",
       "     * Register the mime type and append_mime function with output_area\n",
       "     */\n",
       "    OutputArea.prototype.register_mime_type(EXEC_MIME_TYPE, append_mime, {\n",
       "      /* Is output safe? */\n",
       "      safe: true,\n",
       "      /* Index of renderer in `output_area.display_order` */\n",
       "      index: 0\n",
       "    });\n",
       "  }\n",
       "\n",
       "  // register the mime type if in Jupyter Notebook environment and previously unregistered\n",
       "  if (root.Jupyter !== undefined) {\n",
       "    const events = require('base/js/events');\n",
       "    const OutputArea = require('notebook/js/outputarea').OutputArea;\n",
       "\n",
       "    if (OutputArea.prototype.mime_types().indexOf(EXEC_MIME_TYPE) == -1) {\n",
       "      register_renderer(events, OutputArea);\n",
       "    }\n",
       "  }\n",
       "\n",
       "  \n",
       "  if (typeof (root._bokeh_timeout) === \"undefined\" || force === true) {\n",
       "    root._bokeh_timeout = Date.now() + 5000;\n",
       "    root._bokeh_failed_load = false;\n",
       "  }\n",
       "\n",
       "  const NB_LOAD_WARNING = {'data': {'text/html':\n",
       "     \"<div style='background-color: #fdd'>\\n\"+\n",
       "     \"<p>\\n\"+\n",
       "     \"BokehJS does not appear to have successfully loaded. If loading BokehJS from CDN, this \\n\"+\n",
       "     \"may be due to a slow or bad network connection. Possible fixes:\\n\"+\n",
       "     \"</p>\\n\"+\n",
       "     \"<ul>\\n\"+\n",
       "     \"<li>re-rerun `output_notebook()` to attempt to load from CDN again, or</li>\\n\"+\n",
       "     \"<li>use INLINE resources instead, as so:</li>\\n\"+\n",
       "     \"</ul>\\n\"+\n",
       "     \"<code>\\n\"+\n",
       "     \"from bokeh.resources import INLINE\\n\"+\n",
       "     \"output_notebook(resources=INLINE)\\n\"+\n",
       "     \"</code>\\n\"+\n",
       "     \"</div>\"}};\n",
       "\n",
       "  function display_loaded() {\n",
       "    const el = document.getElementById(\"1002\");\n",
       "    if (el != null) {\n",
       "      el.textContent = \"BokehJS is loading...\";\n",
       "    }\n",
       "    if (root.Bokeh !== undefined) {\n",
       "      if (el != null) {\n",
       "        el.textContent = \"BokehJS \" + root.Bokeh.version + \" successfully loaded.\";\n",
       "      }\n",
       "    } else if (Date.now() < root._bokeh_timeout) {\n",
       "      setTimeout(display_loaded, 100)\n",
       "    }\n",
       "  }\n",
       "\n",
       "\n",
       "  function run_callbacks() {\n",
       "    try {\n",
       "      root._bokeh_onload_callbacks.forEach(function(callback) {\n",
       "        if (callback != null)\n",
       "          callback();\n",
       "      });\n",
       "    } finally {\n",
       "      delete root._bokeh_onload_callbacks\n",
       "    }\n",
       "    console.debug(\"Bokeh: all callbacks have finished\");\n",
       "  }\n",
       "\n",
       "  function load_libs(css_urls, js_urls, callback) {\n",
       "    if (css_urls == null) css_urls = [];\n",
       "    if (js_urls == null) js_urls = [];\n",
       "\n",
       "    root._bokeh_onload_callbacks.push(callback);\n",
       "    if (root._bokeh_is_loading > 0) {\n",
       "      console.debug(\"Bokeh: BokehJS is being loaded, scheduling callback at\", now());\n",
       "      return null;\n",
       "    }\n",
       "    if (js_urls == null || js_urls.length === 0) {\n",
       "      run_callbacks();\n",
       "      return null;\n",
       "    }\n",
       "    console.debug(\"Bokeh: BokehJS not loaded, scheduling load and callback at\", now());\n",
       "    root._bokeh_is_loading = css_urls.length + js_urls.length;\n",
       "\n",
       "    function on_load() {\n",
       "      root._bokeh_is_loading--;\n",
       "      if (root._bokeh_is_loading === 0) {\n",
       "        console.debug(\"Bokeh: all BokehJS libraries/stylesheets loaded\");\n",
       "        run_callbacks()\n",
       "      }\n",
       "    }\n",
       "\n",
       "    function on_error(url) {\n",
       "      console.error(\"failed to load \" + url);\n",
       "    }\n",
       "\n",
       "    for (let i = 0; i < css_urls.length; i++) {\n",
       "      const url = css_urls[i];\n",
       "      const element = document.createElement(\"link\");\n",
       "      element.onload = on_load;\n",
       "      element.onerror = on_error.bind(null, url);\n",
       "      element.rel = \"stylesheet\";\n",
       "      element.type = \"text/css\";\n",
       "      element.href = url;\n",
       "      console.debug(\"Bokeh: injecting link tag for BokehJS stylesheet: \", url);\n",
       "      document.body.appendChild(element);\n",
       "    }\n",
       "\n",
       "    for (let i = 0; i < js_urls.length; i++) {\n",
       "      const url = js_urls[i];\n",
       "      const element = document.createElement('script');\n",
       "      element.onload = on_load;\n",
       "      element.onerror = on_error.bind(null, url);\n",
       "      element.async = false;\n",
       "      element.src = url;\n",
       "      console.debug(\"Bokeh: injecting script tag for BokehJS library: \", url);\n",
       "      document.head.appendChild(element);\n",
       "    }\n",
       "  };\n",
       "\n",
       "  function inject_raw_css(css) {\n",
       "    const element = document.createElement(\"style\");\n",
       "    element.appendChild(document.createTextNode(css));\n",
       "    document.body.appendChild(element);\n",
       "  }\n",
       "\n",
       "  \n",
       "  const js_urls = [\"https://cdn.bokeh.org/bokeh/release/bokeh-2.4.0.min.js\", \"https://cdn.bokeh.org/bokeh/release/bokeh-gl-2.4.0.min.js\", \"https://cdn.bokeh.org/bokeh/release/bokeh-widgets-2.4.0.min.js\", \"https://cdn.bokeh.org/bokeh/release/bokeh-tables-2.4.0.min.js\", \"https://cdn.bokeh.org/bokeh/release/bokeh-mathjax-2.4.0.min.js\"];\n",
       "  const css_urls = [];\n",
       "  \n",
       "\n",
       "  const inline_js = [\n",
       "    function(Bokeh) {\n",
       "      Bokeh.set_log_level(\"info\");\n",
       "    },\n",
       "    function(Bokeh) {\n",
       "    \n",
       "    \n",
       "    }\n",
       "  ];\n",
       "\n",
       "  function run_inline_js() {\n",
       "    \n",
       "    if (root.Bokeh !== undefined || force === true) {\n",
       "      \n",
       "    for (let i = 0; i < inline_js.length; i++) {\n",
       "      inline_js[i].call(root, root.Bokeh);\n",
       "    }\n",
       "    if (force === true) {\n",
       "        display_loaded();\n",
       "      }} else if (Date.now() < root._bokeh_timeout) {\n",
       "      setTimeout(run_inline_js, 100);\n",
       "    } else if (!root._bokeh_failed_load) {\n",
       "      console.log(\"Bokeh: BokehJS failed to load within specified timeout.\");\n",
       "      root._bokeh_failed_load = true;\n",
       "    } else if (force !== true) {\n",
       "      const cell = $(document.getElementById(\"1002\")).parents('.cell').data().cell;\n",
       "      cell.output_area.append_execute_result(NB_LOAD_WARNING)\n",
       "    }\n",
       "\n",
       "  }\n",
       "\n",
       "  if (root._bokeh_is_loading === 0) {\n",
       "    console.debug(\"Bokeh: BokehJS loaded, going straight to plotting\");\n",
       "    run_inline_js();\n",
       "  } else {\n",
       "    load_libs(css_urls, js_urls, function() {\n",
       "      console.debug(\"Bokeh: BokehJS plotting callback run at\", now());\n",
       "      run_inline_js();\n",
       "    });\n",
       "  }\n",
       "}(window));"
      ],
      "application/vnd.bokehjs_load.v0+json": "\n(function(root) {\n  function now() {\n    return new Date();\n  }\n\n  const force = true;\n\n  if (typeof root._bokeh_onload_callbacks === \"undefined\" || force === true) {\n    root._bokeh_onload_callbacks = [];\n    root._bokeh_is_loading = undefined;\n  }\n\n  \n\n  \n  if (typeof (root._bokeh_timeout) === \"undefined\" || force === true) {\n    root._bokeh_timeout = Date.now() + 5000;\n    root._bokeh_failed_load = false;\n  }\n\n  const NB_LOAD_WARNING = {'data': {'text/html':\n     \"<div style='background-color: #fdd'>\\n\"+\n     \"<p>\\n\"+\n     \"BokehJS does not appear to have successfully loaded. If loading BokehJS from CDN, this \\n\"+\n     \"may be due to a slow or bad network connection. Possible fixes:\\n\"+\n     \"</p>\\n\"+\n     \"<ul>\\n\"+\n     \"<li>re-rerun `output_notebook()` to attempt to load from CDN again, or</li>\\n\"+\n     \"<li>use INLINE resources instead, as so:</li>\\n\"+\n     \"</ul>\\n\"+\n     \"<code>\\n\"+\n     \"from bokeh.resources import INLINE\\n\"+\n     \"output_notebook(resources=INLINE)\\n\"+\n     \"</code>\\n\"+\n     \"</div>\"}};\n\n  function display_loaded() {\n    const el = document.getElementById(\"1002\");\n    if (el != null) {\n      el.textContent = \"BokehJS is loading...\";\n    }\n    if (root.Bokeh !== undefined) {\n      if (el != null) {\n        el.textContent = \"BokehJS \" + root.Bokeh.version + \" successfully loaded.\";\n      }\n    } else if (Date.now() < root._bokeh_timeout) {\n      setTimeout(display_loaded, 100)\n    }\n  }\n\n\n  function run_callbacks() {\n    try {\n      root._bokeh_onload_callbacks.forEach(function(callback) {\n        if (callback != null)\n          callback();\n      });\n    } finally {\n      delete root._bokeh_onload_callbacks\n    }\n    console.debug(\"Bokeh: all callbacks have finished\");\n  }\n\n  function load_libs(css_urls, js_urls, callback) {\n    if (css_urls == null) css_urls = [];\n    if (js_urls == null) js_urls = [];\n\n    root._bokeh_onload_callbacks.push(callback);\n    if (root._bokeh_is_loading > 0) {\n      console.debug(\"Bokeh: BokehJS is being loaded, scheduling callback at\", now());\n      return null;\n    }\n    if (js_urls == null || js_urls.length === 0) {\n      run_callbacks();\n      return null;\n    }\n    console.debug(\"Bokeh: BokehJS not loaded, scheduling load and callback at\", now());\n    root._bokeh_is_loading = css_urls.length + js_urls.length;\n\n    function on_load() {\n      root._bokeh_is_loading--;\n      if (root._bokeh_is_loading === 0) {\n        console.debug(\"Bokeh: all BokehJS libraries/stylesheets loaded\");\n        run_callbacks()\n      }\n    }\n\n    function on_error(url) {\n      console.error(\"failed to load \" + url);\n    }\n\n    for (let i = 0; i < css_urls.length; i++) {\n      const url = css_urls[i];\n      const element = document.createElement(\"link\");\n      element.onload = on_load;\n      element.onerror = on_error.bind(null, url);\n      element.rel = \"stylesheet\";\n      element.type = \"text/css\";\n      element.href = url;\n      console.debug(\"Bokeh: injecting link tag for BokehJS stylesheet: \", url);\n      document.body.appendChild(element);\n    }\n\n    for (let i = 0; i < js_urls.length; i++) {\n      const url = js_urls[i];\n      const element = document.createElement('script');\n      element.onload = on_load;\n      element.onerror = on_error.bind(null, url);\n      element.async = false;\n      element.src = url;\n      console.debug(\"Bokeh: injecting script tag for BokehJS library: \", url);\n      document.head.appendChild(element);\n    }\n  };\n\n  function inject_raw_css(css) {\n    const element = document.createElement(\"style\");\n    element.appendChild(document.createTextNode(css));\n    document.body.appendChild(element);\n  }\n\n  \n  const js_urls = [\"https://cdn.bokeh.org/bokeh/release/bokeh-2.4.0.min.js\", \"https://cdn.bokeh.org/bokeh/release/bokeh-gl-2.4.0.min.js\", \"https://cdn.bokeh.org/bokeh/release/bokeh-widgets-2.4.0.min.js\", \"https://cdn.bokeh.org/bokeh/release/bokeh-tables-2.4.0.min.js\", \"https://cdn.bokeh.org/bokeh/release/bokeh-mathjax-2.4.0.min.js\"];\n  const css_urls = [];\n  \n\n  const inline_js = [\n    function(Bokeh) {\n      Bokeh.set_log_level(\"info\");\n    },\n    function(Bokeh) {\n    \n    \n    }\n  ];\n\n  function run_inline_js() {\n    \n    if (root.Bokeh !== undefined || force === true) {\n      \n    for (let i = 0; i < inline_js.length; i++) {\n      inline_js[i].call(root, root.Bokeh);\n    }\n    if (force === true) {\n        display_loaded();\n      }} else if (Date.now() < root._bokeh_timeout) {\n      setTimeout(run_inline_js, 100);\n    } else if (!root._bokeh_failed_load) {\n      console.log(\"Bokeh: BokehJS failed to load within specified timeout.\");\n      root._bokeh_failed_load = true;\n    } else if (force !== true) {\n      const cell = $(document.getElementById(\"1002\")).parents('.cell').data().cell;\n      cell.output_area.append_execute_result(NB_LOAD_WARNING)\n    }\n\n  }\n\n  if (root._bokeh_is_loading === 0) {\n    console.debug(\"Bokeh: BokehJS loaded, going straight to plotting\");\n    run_inline_js();\n  } else {\n    load_libs(css_urls, js_urls, function() {\n      console.debug(\"Bokeh: BokehJS plotting callback run at\", now());\n      run_inline_js();\n    });\n  }\n}(window));"
     },
     "metadata": {},
     "output_type": "display_data"
    }
   ],
   "source": [
    "import networkx as nx\n",
    "import matplotlib.pyplot as plt\n",
    "from bokeh.io import output_notebook, show, save\n",
    "from bokeh.models import Range1d, Circle, ColumnDataSource, MultiLine, EdgesAndLinkedNodes, NodesAndLinkedEdges, LabelSet\n",
    "from bokeh.plotting import figure\n",
    "from bokeh.plotting import from_networkx\n",
    "from bokeh.palettes import Blues8, Reds8, Purples8, Oranges8, Viridis8, Spectral8\n",
    "from bokeh.transform import linear_cmap\n",
    "from networkx.algorithms import community\n",
    "output_notebook()"
   ]
  },
  {
   "cell_type": "code",
   "execution_count": 37,
   "id": "c7c2ed6f-fd59-48a2-aa13-2693cdcf2f52",
   "metadata": {},
   "outputs": [],
   "source": [
    "source = [\n",
    "'Charlie Chaplin',\n",
    "'Hank Mann',\n",
    "'Harry Myers',\n",
    "'Charlie Chaplin',\n",
    "'Dr. F. G. Pease',\n",
    "'Dr. F. G. Pease',\n",
    "'H. L. Gumbiner',\n",
    "'Ransome Sutton',\n",
    "'Ransome Sutton',\n",
    "'Charlie Chaplin',\n",
    "'Charlie Chaplin',\n",
    "'Charlie Chaplin',\n",
    "'Charlie Chaplin',\n",
    "'Joseph Grimaldi',\n",
    "'S. Charles Lee',\n",
    "'Edwardes Sprout',\n",
    "'Charlie Chaplin',\n",
    "'Virginia Cherrill',\n",
    "'Allan Garcia',\n",
    "'Allan Garcia',\n",
    "'Charlie Chaplin',\n",
    "'Hank Mann',\n",
    "'Virginia Cherrill',\n",
    "'Charlie Chaplin',\n",
    "'H. L. Gumbiner',\n",
    "'S. Charles Lee',\n",
    "'Charlie Chaplin',\n",
    "'H. L. Gumbiner',\n",
    "'Charlie Chaplin',\n",
    "'Dr. F. G. Pease',\n",
    "'Ransome Sutton',\n",
    "'S. Charles Lee',\n",
    "'Charlie Chaplin', \n",
    "'Allan Garcia',\n",
    "'Charlie Chaplin']\n",
    "    \n",
    "target = [\n",
    "'Edwin Schallert',\n",
    "'Edwin Schallert',\n",
    "'Edwin Schallert',\n",
    "'Allan Garcia',\n",
    "'Charlie Chaplin', \n",
    "'Charlie Chaplin', \n",
    "'Charlie Chaplin', \n",
    "'Charlie Chaplin', \n",
    "'Dr. F. G. Pease',\n",
    "'Dr. Michelson', \n",
    "'Florence Lee',\n",
    "'Francis Peace', \n",
    "'Frederick Lonsdale',\n",
    "'Frederick Lonsdale',\n",
    "'H. L. Gumbiner',\n",
    "'H. L. Gumbiner',\n",
    "'Hank Mann',\n",
    "'Hank Mann',\n",
    "'Hank Mann',\n",
    "'Harry Myers',\n",
    "'Harry Myers',\n",
    "'Harry Myers',\n",
    "'Harry Myers',\n",
    "'Joseph Grimaldi',\n",
    "'Louis XIV',\n",
    "'Louis XIV',\n",
    "'N. P. Alexander',\n",
    "'N. P. Alexander',\n",
    "'Prof. Einstein',\n",
    "'Prof. Einstein',\n",
    "'Prof. Einstein',\n",
    "'R. E. Campbell',\n",
    "'S. Charles Lee',\n",
    "'Virginia Cherrill',\n",
    "'Virginia Cherrill']"
   ]
  },
  {
   "cell_type": "code",
   "execution_count": 38,
   "id": "8e1a867e-eb55-4ffd-aa72-f904ea7d37d4",
   "metadata": {},
   "outputs": [],
   "source": [
    "df = pd.DataFrame({'source':source,\n",
    "                   'target':target})"
   ]
  },
  {
   "cell_type": "code",
   "execution_count": 39,
   "id": "9a15cf14-e753-4ebe-a327-1e24b0b3b321",
   "metadata": {
    "tags": []
   },
   "outputs": [
    {
     "data": {
      "text/html": [
       "<div>\n",
       "<style scoped>\n",
       "    .dataframe tbody tr th:only-of-type {\n",
       "        vertical-align: middle;\n",
       "    }\n",
       "\n",
       "    .dataframe tbody tr th {\n",
       "        vertical-align: top;\n",
       "    }\n",
       "\n",
       "    .dataframe thead th {\n",
       "        text-align: right;\n",
       "    }\n",
       "</style>\n",
       "<table border=\"1\" class=\"dataframe\">\n",
       "  <thead>\n",
       "    <tr style=\"text-align: right;\">\n",
       "      <th></th>\n",
       "      <th>source</th>\n",
       "      <th>target</th>\n",
       "    </tr>\n",
       "  </thead>\n",
       "  <tbody>\n",
       "    <tr>\n",
       "      <th>0</th>\n",
       "      <td>Charlie Chaplin</td>\n",
       "      <td>Edwin Schallert</td>\n",
       "    </tr>\n",
       "    <tr>\n",
       "      <th>1</th>\n",
       "      <td>Hank Mann</td>\n",
       "      <td>Edwin Schallert</td>\n",
       "    </tr>\n",
       "    <tr>\n",
       "      <th>2</th>\n",
       "      <td>Harry Myers</td>\n",
       "      <td>Edwin Schallert</td>\n",
       "    </tr>\n",
       "    <tr>\n",
       "      <th>3</th>\n",
       "      <td>Charlie Chaplin</td>\n",
       "      <td>Allan Garcia</td>\n",
       "    </tr>\n",
       "    <tr>\n",
       "      <th>4</th>\n",
       "      <td>Dr. F. G. Pease</td>\n",
       "      <td>Charlie Chaplin</td>\n",
       "    </tr>\n",
       "    <tr>\n",
       "      <th>5</th>\n",
       "      <td>Dr. F. G. Pease</td>\n",
       "      <td>Charlie Chaplin</td>\n",
       "    </tr>\n",
       "    <tr>\n",
       "      <th>6</th>\n",
       "      <td>H. L. Gumbiner</td>\n",
       "      <td>Charlie Chaplin</td>\n",
       "    </tr>\n",
       "    <tr>\n",
       "      <th>7</th>\n",
       "      <td>Ransome Sutton</td>\n",
       "      <td>Charlie Chaplin</td>\n",
       "    </tr>\n",
       "    <tr>\n",
       "      <th>8</th>\n",
       "      <td>Ransome Sutton</td>\n",
       "      <td>Dr. F. G. Pease</td>\n",
       "    </tr>\n",
       "    <tr>\n",
       "      <th>9</th>\n",
       "      <td>Charlie Chaplin</td>\n",
       "      <td>Dr. Michelson</td>\n",
       "    </tr>\n",
       "    <tr>\n",
       "      <th>10</th>\n",
       "      <td>Charlie Chaplin</td>\n",
       "      <td>Florence Lee</td>\n",
       "    </tr>\n",
       "    <tr>\n",
       "      <th>11</th>\n",
       "      <td>Charlie Chaplin</td>\n",
       "      <td>Francis Peace</td>\n",
       "    </tr>\n",
       "    <tr>\n",
       "      <th>12</th>\n",
       "      <td>Charlie Chaplin</td>\n",
       "      <td>Frederick Lonsdale</td>\n",
       "    </tr>\n",
       "    <tr>\n",
       "      <th>13</th>\n",
       "      <td>Joseph Grimaldi</td>\n",
       "      <td>Frederick Lonsdale</td>\n",
       "    </tr>\n",
       "    <tr>\n",
       "      <th>14</th>\n",
       "      <td>S. Charles Lee</td>\n",
       "      <td>H. L. Gumbiner</td>\n",
       "    </tr>\n",
       "    <tr>\n",
       "      <th>15</th>\n",
       "      <td>Edwardes Sprout</td>\n",
       "      <td>H. L. Gumbiner</td>\n",
       "    </tr>\n",
       "    <tr>\n",
       "      <th>16</th>\n",
       "      <td>Charlie Chaplin</td>\n",
       "      <td>Hank Mann</td>\n",
       "    </tr>\n",
       "    <tr>\n",
       "      <th>17</th>\n",
       "      <td>Virginia Cherrill</td>\n",
       "      <td>Hank Mann</td>\n",
       "    </tr>\n",
       "    <tr>\n",
       "      <th>18</th>\n",
       "      <td>Allan Garcia</td>\n",
       "      <td>Hank Mann</td>\n",
       "    </tr>\n",
       "    <tr>\n",
       "      <th>19</th>\n",
       "      <td>Allan Garcia</td>\n",
       "      <td>Harry Myers</td>\n",
       "    </tr>\n",
       "    <tr>\n",
       "      <th>20</th>\n",
       "      <td>Charlie Chaplin</td>\n",
       "      <td>Harry Myers</td>\n",
       "    </tr>\n",
       "    <tr>\n",
       "      <th>21</th>\n",
       "      <td>Hank Mann</td>\n",
       "      <td>Harry Myers</td>\n",
       "    </tr>\n",
       "    <tr>\n",
       "      <th>22</th>\n",
       "      <td>Virginia Cherrill</td>\n",
       "      <td>Harry Myers</td>\n",
       "    </tr>\n",
       "    <tr>\n",
       "      <th>23</th>\n",
       "      <td>Charlie Chaplin</td>\n",
       "      <td>Joseph Grimaldi</td>\n",
       "    </tr>\n",
       "    <tr>\n",
       "      <th>24</th>\n",
       "      <td>H. L. Gumbiner</td>\n",
       "      <td>Louis XIV</td>\n",
       "    </tr>\n",
       "    <tr>\n",
       "      <th>25</th>\n",
       "      <td>S. Charles Lee</td>\n",
       "      <td>Louis XIV</td>\n",
       "    </tr>\n",
       "    <tr>\n",
       "      <th>26</th>\n",
       "      <td>Charlie Chaplin</td>\n",
       "      <td>N. P. Alexander</td>\n",
       "    </tr>\n",
       "    <tr>\n",
       "      <th>27</th>\n",
       "      <td>H. L. Gumbiner</td>\n",
       "      <td>N. P. Alexander</td>\n",
       "    </tr>\n",
       "    <tr>\n",
       "      <th>28</th>\n",
       "      <td>Charlie Chaplin</td>\n",
       "      <td>Prof. Einstein</td>\n",
       "    </tr>\n",
       "    <tr>\n",
       "      <th>29</th>\n",
       "      <td>Dr. F. G. Pease</td>\n",
       "      <td>Prof. Einstein</td>\n",
       "    </tr>\n",
       "    <tr>\n",
       "      <th>30</th>\n",
       "      <td>Ransome Sutton</td>\n",
       "      <td>Prof. Einstein</td>\n",
       "    </tr>\n",
       "    <tr>\n",
       "      <th>31</th>\n",
       "      <td>S. Charles Lee</td>\n",
       "      <td>R. E. Campbell</td>\n",
       "    </tr>\n",
       "    <tr>\n",
       "      <th>32</th>\n",
       "      <td>Charlie Chaplin</td>\n",
       "      <td>S. Charles Lee</td>\n",
       "    </tr>\n",
       "    <tr>\n",
       "      <th>33</th>\n",
       "      <td>Allan Garcia</td>\n",
       "      <td>Virginia Cherrill</td>\n",
       "    </tr>\n",
       "    <tr>\n",
       "      <th>34</th>\n",
       "      <td>Charlie Chaplin</td>\n",
       "      <td>Virginia Cherrill</td>\n",
       "    </tr>\n",
       "  </tbody>\n",
       "</table>\n",
       "</div>"
      ],
      "text/plain": [
       "               source              target\n",
       "0     Charlie Chaplin     Edwin Schallert\n",
       "1           Hank Mann     Edwin Schallert\n",
       "2         Harry Myers     Edwin Schallert\n",
       "3     Charlie Chaplin        Allan Garcia\n",
       "4     Dr. F. G. Pease     Charlie Chaplin\n",
       "5     Dr. F. G. Pease     Charlie Chaplin\n",
       "6      H. L. Gumbiner     Charlie Chaplin\n",
       "7      Ransome Sutton     Charlie Chaplin\n",
       "8      Ransome Sutton     Dr. F. G. Pease\n",
       "9     Charlie Chaplin       Dr. Michelson\n",
       "10    Charlie Chaplin        Florence Lee\n",
       "11    Charlie Chaplin       Francis Peace\n",
       "12    Charlie Chaplin  Frederick Lonsdale\n",
       "13    Joseph Grimaldi  Frederick Lonsdale\n",
       "14     S. Charles Lee      H. L. Gumbiner\n",
       "15    Edwardes Sprout      H. L. Gumbiner\n",
       "16    Charlie Chaplin           Hank Mann\n",
       "17  Virginia Cherrill           Hank Mann\n",
       "18       Allan Garcia           Hank Mann\n",
       "19       Allan Garcia         Harry Myers\n",
       "20    Charlie Chaplin         Harry Myers\n",
       "21          Hank Mann         Harry Myers\n",
       "22  Virginia Cherrill         Harry Myers\n",
       "23    Charlie Chaplin     Joseph Grimaldi\n",
       "24     H. L. Gumbiner           Louis XIV\n",
       "25     S. Charles Lee           Louis XIV\n",
       "26    Charlie Chaplin     N. P. Alexander\n",
       "27     H. L. Gumbiner     N. P. Alexander\n",
       "28    Charlie Chaplin      Prof. Einstein\n",
       "29    Dr. F. G. Pease      Prof. Einstein\n",
       "30     Ransome Sutton      Prof. Einstein\n",
       "31     S. Charles Lee      R. E. Campbell\n",
       "32    Charlie Chaplin      S. Charles Lee\n",
       "33       Allan Garcia   Virginia Cherrill\n",
       "34    Charlie Chaplin   Virginia Cherrill"
      ]
     },
     "execution_count": 39,
     "metadata": {},
     "output_type": "execute_result"
    }
   ],
   "source": [
    "df"
   ]
  },
  {
   "cell_type": "code",
   "execution_count": 40,
   "id": "cf75c11c-007e-4576-9105-0b6177ac9b82",
   "metadata": {},
   "outputs": [],
   "source": [
    "Network = nx.from_pandas_edgelist(df,\n",
    "                            'source',\n",
    "                            'target')"
   ]
  },
  {
   "cell_type": "code",
   "execution_count": 41,
   "id": "574d48eb-c46c-451e-b922-33c287a886ac",
   "metadata": {},
   "outputs": [
    {
     "data": {
      "text/html": [
       "\n",
       "\n",
       "\n",
       "\n",
       "\n",
       "\n",
       "  <div class=\"bk-root\" id=\"25eefab4-2527-4b6c-83ca-1aabb15500a6\" data-root-id=\"1005\"></div>\n"
      ]
     },
     "metadata": {},
     "output_type": "display_data"
    },
    {
     "data": {
      "application/javascript": [
       "(function(root) {\n",
       "  function embed_document(root) {\n",
       "    \n",
       "  const docs_json = {\"cdfafcc1-442b-4edf-bf88-daa2d074e382\":{\"defs\":[],\"roots\":{\"references\":[{\"attributes\":{\"below\":[{\"id\":\"1012\"}],\"center\":[{\"id\":\"1015\"},{\"id\":\"1019\"}],\"left\":[{\"id\":\"1016\"}],\"renderers\":[{\"id\":\"1034\"},{\"id\":\"1055\"}],\"title\":{\"id\":\"1057\"},\"toolbar\":{\"id\":\"1027\"},\"x_range\":{\"id\":\"1003\"},\"x_scale\":{\"id\":\"1008\"},\"y_range\":{\"id\":\"1004\"},\"y_scale\":{\"id\":\"1010\"}},\"id\":\"1005\",\"subtype\":\"Figure\",\"type\":\"Plot\"},{\"attributes\":{},\"id\":\"1021\",\"type\":\"WheelZoomTool\"},{\"attributes\":{},\"id\":\"1067\",\"type\":\"NodesOnly\"},{\"attributes\":{},\"id\":\"1025\",\"type\":\"HelpTool\"},{\"attributes\":{\"coordinates\":null,\"data_source\":{\"id\":\"1040\"},\"glyph\":{\"id\":\"1049\"},\"group\":null,\"hover_glyph\":null,\"view\":{\"id\":\"1042\"}},\"id\":\"1041\",\"type\":\"GlyphRenderer\"},{\"attributes\":{},\"id\":\"1013\",\"type\":\"BasicTicker\"},{\"attributes\":{\"tools\":[{\"id\":\"1020\"},{\"id\":\"1021\"},{\"id\":\"1022\"},{\"id\":\"1023\"},{\"id\":\"1024\"},{\"id\":\"1025\"}]},\"id\":\"1027\",\"type\":\"Toolbar\"},{\"attributes\":{\"coordinates\":null,\"formatter\":{\"id\":\"1073\"},\"group\":null,\"major_label_policy\":{\"id\":\"1074\"},\"ticker\":{\"id\":\"1013\"}},\"id\":\"1012\",\"type\":\"LinearAxis\"},{\"attributes\":{},\"id\":\"1080\",\"type\":\"UnionRenderers\"},{\"attributes\":{\"source\":{\"id\":\"1040\"}},\"id\":\"1042\",\"type\":\"CDSView\"},{\"attributes\":{},\"id\":\"1010\",\"type\":\"LinearScale\"},{\"attributes\":{},\"id\":\"1081\",\"type\":\"Selection\"},{\"attributes\":{\"axis\":{\"id\":\"1016\"},\"coordinates\":null,\"dimension\":1,\"group\":null,\"ticker\":null},\"id\":\"1019\",\"type\":\"Grid\"},{\"attributes\":{\"data\":{\"end\":[\"Edwin Schallert\",\"Allan Garcia\",\"Dr. F. G. Pease\",\"H. L. Gumbiner\",\"Ransome Sutton\",\"Dr. Michelson\",\"Florence Lee\",\"Francis Peace\",\"Frederick Lonsdale\",\"Hank Mann\",\"Harry Myers\",\"Joseph Grimaldi\",\"N. P. Alexander\",\"Prof. Einstein\",\"S. Charles Lee\",\"Virginia Cherrill\",\"Hank Mann\",\"Harry Myers\",\"Virginia Cherrill\",\"Allan Garcia\",\"Harry Myers\",\"Allan Garcia\",\"Virginia Cherrill\",\"Virginia Cherrill\",\"Ransome Sutton\",\"Prof. Einstein\",\"S. Charles Lee\",\"Edwardes Sprout\",\"Louis XIV\",\"N. P. Alexander\",\"Prof. Einstein\",\"Joseph Grimaldi\",\"Louis XIV\",\"R. E. Campbell\"],\"start\":[\"Charlie Chaplin\",\"Charlie Chaplin\",\"Charlie Chaplin\",\"Charlie Chaplin\",\"Charlie Chaplin\",\"Charlie Chaplin\",\"Charlie Chaplin\",\"Charlie Chaplin\",\"Charlie Chaplin\",\"Charlie Chaplin\",\"Charlie Chaplin\",\"Charlie Chaplin\",\"Charlie Chaplin\",\"Charlie Chaplin\",\"Charlie Chaplin\",\"Charlie Chaplin\",\"Edwin Schallert\",\"Edwin Schallert\",\"Hank Mann\",\"Hank Mann\",\"Hank Mann\",\"Harry Myers\",\"Harry Myers\",\"Allan Garcia\",\"Dr. F. G. Pease\",\"Dr. F. G. Pease\",\"H. L. Gumbiner\",\"H. L. Gumbiner\",\"H. L. Gumbiner\",\"H. L. Gumbiner\",\"Ransome Sutton\",\"Frederick Lonsdale\",\"S. Charles Lee\",\"S. Charles Lee\"]},\"selected\":{\"id\":\"1081\"},\"selection_policy\":{\"id\":\"1080\"}},\"id\":\"1040\",\"type\":\"ColumnDataSource\"},{\"attributes\":{},\"id\":\"1075\",\"type\":\"UnionRenderers\"},{\"attributes\":{},\"id\":\"1068\",\"type\":\"NodesOnly\"},{\"attributes\":{\"data\":{\"name\":[\"Charlie Chaplin\",\"Edwin Schallert\",\"Hank Mann\",\"Harry Myers\",\"Allan Garcia\",\"Dr. F. G. Pease\",\"H. L. Gumbiner\",\"Ransome Sutton\",\"Dr. Michelson\",\"Florence Lee\",\"Francis Peace\",\"Frederick Lonsdale\",\"Joseph Grimaldi\",\"S. Charles Lee\",\"Edwardes Sprout\",\"Virginia Cherrill\",\"Louis XIV\",\"N. P. Alexander\",\"Prof. Einstein\",\"R. E. Campbell\"],\"x\":[0.8153535790878608,-1.6655538923716484,0.24374355162466693,0.5674647219333335,2.6192406053168598,4.31110481548772,-2.1296282395577038,3.7139974476599273,-3.881852071035902,5.401015055068287,-3.8849791998605383,6.160907654886629,5.848385452640149,-4.599047061940399,-2.194600826017478,2.1499908652495536,-5.282475699546112,-1.397889817624726,2.362685223772144,-9.157862164772615],\"y\":[-1.1696160201447643,-5.446731268847641,-6.44699428509162,-4.907546884075527,-5.128134525608265,2.991853700067409,5.003947713265312,1.3344236470316013,-3.7471788700284754,-4.232652226665699,-1.2582204780131978,-0.16458119948689967,-1.8883335665992238,3.6059160907027326,10.0,-6.629523015782032,7.098043163377707,2.3178781254556653,2.951357722017596,5.7160921784253045]},\"selected\":{\"id\":\"1076\"},\"selection_policy\":{\"id\":\"1075\"}},\"id\":\"1054\",\"type\":\"ColumnDataSource\"},{\"attributes\":{},\"id\":\"1076\",\"type\":\"Selection\"},{\"attributes\":{\"fill_color\":{\"value\":\"green\"},\"size\":{\"value\":30}},\"id\":\"1044\",\"type\":\"Circle\"},{\"attributes\":{\"data\":{\"index\":[\"Charlie Chaplin\",\"Edwin Schallert\",\"Hank Mann\",\"Harry Myers\",\"Allan Garcia\",\"Dr. F. G. Pease\",\"H. L. Gumbiner\",\"Ransome Sutton\",\"Dr. Michelson\",\"Florence Lee\",\"Francis Peace\",\"Frederick Lonsdale\",\"Joseph Grimaldi\",\"S. Charles Lee\",\"Edwardes Sprout\",\"Virginia Cherrill\",\"Louis XIV\",\"N. P. Alexander\",\"Prof. Einstein\",\"R. E. Campbell\"]},\"selected\":{\"id\":\"1079\"},\"selection_policy\":{\"id\":\"1078\"}},\"id\":\"1036\",\"type\":\"ColumnDataSource\"},{\"attributes\":{},\"id\":\"1020\",\"type\":\"PanTool\"},{\"attributes\":{},\"id\":\"1070\",\"type\":\"BasicTickFormatter\"},{\"attributes\":{\"overlay\":{\"id\":\"1026\"}},\"id\":\"1022\",\"type\":\"BoxZoomTool\"},{\"attributes\":{\"coordinates\":null,\"data_source\":{\"id\":\"1036\"},\"glyph\":{\"id\":\"1044\"},\"group\":null,\"hover_glyph\":null,\"view\":{\"id\":\"1038\"}},\"id\":\"1037\",\"type\":\"GlyphRenderer\"},{\"attributes\":{},\"id\":\"1071\",\"type\":\"AllLabels\"},{\"attributes\":{\"background_fill_alpha\":{\"value\":0.7},\"background_fill_color\":{\"value\":\"white\"},\"coordinates\":null,\"group\":null,\"source\":{\"id\":\"1054\"},\"text\":{\"field\":\"name\"},\"text_font_size\":{\"value\":\"10px\"},\"x\":{\"field\":\"x\"},\"x_offset\":{\"value\":-5.0},\"y\":{\"field\":\"y\"},\"y_offset\":{\"value\":-5.0}},\"id\":\"1055\",\"type\":\"LabelSet\"},{\"attributes\":{\"coordinates\":null,\"group\":null},\"id\":\"1057\",\"type\":\"Title\"},{\"attributes\":{},\"id\":\"1008\",\"type\":\"LinearScale\"},{\"attributes\":{\"coordinates\":null,\"edge_renderer\":{\"id\":\"1041\"},\"group\":null,\"inspection_policy\":{\"id\":\"1068\"},\"layout_provider\":{\"id\":\"1043\"},\"node_renderer\":{\"id\":\"1037\"},\"selection_policy\":{\"id\":\"1067\"}},\"id\":\"1034\",\"type\":\"GraphRenderer\"},{\"attributes\":{},\"id\":\"1073\",\"type\":\"BasicTickFormatter\"},{\"attributes\":{\"end\":11,\"start\":-11},\"id\":\"1004\",\"type\":\"Range1d\"},{\"attributes\":{\"line_alpha\":{\"value\":0.5}},\"id\":\"1049\",\"type\":\"MultiLine\"},{\"attributes\":{\"source\":{\"id\":\"1036\"}},\"id\":\"1038\",\"type\":\"CDSView\"},{\"attributes\":{\"end\":11,\"start\":-11},\"id\":\"1003\",\"type\":\"Range1d\"},{\"attributes\":{},\"id\":\"1074\",\"type\":\"AllLabels\"},{\"attributes\":{},\"id\":\"1023\",\"type\":\"SaveTool\"},{\"attributes\":{\"coordinates\":null,\"formatter\":{\"id\":\"1070\"},\"group\":null,\"major_label_policy\":{\"id\":\"1071\"},\"ticker\":{\"id\":\"1017\"}},\"id\":\"1016\",\"type\":\"LinearAxis\"},{\"attributes\":{\"axis\":{\"id\":\"1012\"},\"coordinates\":null,\"group\":null,\"ticker\":null},\"id\":\"1015\",\"type\":\"Grid\"},{\"attributes\":{},\"id\":\"1078\",\"type\":\"UnionRenderers\"},{\"attributes\":{\"bottom_units\":\"screen\",\"coordinates\":null,\"fill_alpha\":0.5,\"fill_color\":\"lightgrey\",\"group\":null,\"left_units\":\"screen\",\"level\":\"overlay\",\"line_alpha\":1.0,\"line_color\":\"black\",\"line_dash\":[4,4],\"line_width\":2,\"right_units\":\"screen\",\"syncable\":false,\"top_units\":\"screen\"},\"id\":\"1026\",\"type\":\"BoxAnnotation\"},{\"attributes\":{},\"id\":\"1079\",\"type\":\"Selection\"},{\"attributes\":{\"graph_layout\":{\"Allan Garcia\":[2.6192406053168598,-5.128134525608265],\"Charlie Chaplin\":[0.8153535790878608,-1.1696160201447643],\"Dr. F. G. Pease\":[4.31110481548772,2.991853700067409],\"Dr. Michelson\":[-3.881852071035902,-3.7471788700284754],\"Edwardes Sprout\":[-2.194600826017478,10.0],\"Edwin Schallert\":[-1.6655538923716484,-5.446731268847641],\"Florence Lee\":[5.401015055068287,-4.232652226665699],\"Francis Peace\":[-3.8849791998605383,-1.2582204780131978],\"Frederick Lonsdale\":[6.160907654886629,-0.16458119948689967],\"H. L. Gumbiner\":[-2.1296282395577038,5.003947713265312],\"Hank Mann\":[0.24374355162466693,-6.44699428509162],\"Harry Myers\":[0.5674647219333335,-4.907546884075527],\"Joseph Grimaldi\":[5.848385452640149,-1.8883335665992238],\"Louis XIV\":[-5.282475699546112,7.098043163377707],\"N. P. Alexander\":[-1.397889817624726,2.3178781254556653],\"Prof. Einstein\":[2.362685223772144,2.951357722017596],\"R. E. Campbell\":[-9.157862164772615,5.7160921784253045],\"Ransome Sutton\":[3.7139974476599273,1.3344236470316013],\"S. Charles Lee\":[-4.599047061940399,3.6059160907027326],\"Virginia Cherrill\":[2.1499908652495536,-6.629523015782032]}},\"id\":\"1043\",\"type\":\"StaticLayoutProvider\"},{\"attributes\":{},\"id\":\"1017\",\"type\":\"BasicTicker\"},{\"attributes\":{},\"id\":\"1024\",\"type\":\"ResetTool\"}],\"root_ids\":[\"1005\"]},\"title\":\"Bokeh Application\",\"version\":\"2.4.0\"}};\n",
       "  const render_items = [{\"docid\":\"cdfafcc1-442b-4edf-bf88-daa2d074e382\",\"root_ids\":[\"1005\"],\"roots\":{\"1005\":\"25eefab4-2527-4b6c-83ca-1aabb15500a6\"}}];\n",
       "  root.Bokeh.embed.embed_items_notebook(docs_json, render_items);\n",
       "\n",
       "  }\n",
       "  if (root.Bokeh !== undefined) {\n",
       "    embed_document(root);\n",
       "  } else {\n",
       "    let attempts = 0;\n",
       "    const timer = setInterval(function(root) {\n",
       "      if (root.Bokeh !== undefined) {\n",
       "        clearInterval(timer);\n",
       "        embed_document(root);\n",
       "      } else {\n",
       "        attempts++;\n",
       "        if (attempts > 100) {\n",
       "          clearInterval(timer);\n",
       "          console.log(\"Bokeh: ERROR: Unable to run BokehJS code because BokehJS library is missing\");\n",
       "        }\n",
       "      }\n",
       "    }, 10, root)\n",
       "  }\n",
       "})(window);"
      ],
      "application/vnd.bokehjs_exec.v0+json": ""
     },
     "metadata": {
      "application/vnd.bokehjs_exec.v0+json": {
       "id": "1005"
      }
     },
     "output_type": "display_data"
    }
   ],
   "source": [
    "plot = figure(x_range=Range1d(-11, 11), y_range=Range1d(-11, 11))\n",
    "\n",
    "network_graph = from_networkx(Network, nx.spring_layout, scale=10, center=(0, 0))\n",
    "\n",
    "network_graph.node_renderer.glyph = Circle(size=30, fill_color='green')\n",
    "\n",
    "network_graph.edge_renderer.glyph = MultiLine(line_alpha=0.5, line_width=1)\n",
    "\n",
    "plot.renderers.append(network_graph)\n",
    "\n",
    "\n",
    "x, y = zip(*network_graph.layout_provider.graph_layout.values())\n",
    "node_labels = list(Network.nodes())\n",
    "source = ColumnDataSource({'x': x, 'y': y, 'name': [str(node_labels[i]) for i in range(len(x))]})\n",
    "labels = LabelSet(x='x', y='y', text='name', source=source, background_fill_color='white', text_font_size='10px', background_fill_alpha=.7, x_offset=-5.0, y_offset=-5.0)\n",
    "plot.renderers.append(labels)\n",
    "\n",
    "show(plot)"
   ]
  },
  {
   "cell_type": "markdown",
   "id": "7c654b94-7d2f-4e2b-b2d2-cadc6c02c856",
   "metadata": {},
   "source": [
    "![The image of network](bokeh_plot.png)"
   ]
  },
  {
   "cell_type": "code",
   "execution_count": 42,
   "id": "372b8140-987a-4a4d-a3b1-5304125c0949",
   "metadata": {},
   "outputs": [],
   "source": [
    "# Calculate degree for each node and add as node attribute\n",
    "degrees = dict(nx.degree(Network))\n",
    "nx.set_node_attributes(Network, name='degree', values=degrees)\n",
    "\n",
    "# Slightly adjust degree so that the nodes with very small degrees are still visible\n",
    "number_to_adjust_by = 7\n",
    "adjusted_node_size = dict([(node, degree+number_to_adjust_by) for node, degree in nx.degree(Network)])\n",
    "nx.set_node_attributes(Network, name='adjusted_node_size', values=adjusted_node_size)\n",
    "\n",
    "# Calculate communities\n",
    "communities = community.greedy_modularity_communities(Network)\n",
    "\n",
    "# Add modularity class and color as attributes to network graph\n",
    "# Create empty dictionaries\n",
    "modularity_class = {}\n",
    "modularity_color = {}\n",
    "#Loop through each community in the network\n",
    "for community_number, community in enumerate(communities):\n",
    "    #For each member of the community, add their community number and a distinct color\n",
    "    for name in community: \n",
    "        modularity_class[name] = community_number\n",
    "        modularity_color[name] = Spectral8[community_number]\n",
    "        \n",
    "# Add modularity class and color as attributes from the network above\n",
    "nx.set_node_attributes(Network, modularity_class, 'modularity_class')\n",
    "nx.set_node_attributes(Network, modularity_color, 'modularity_color')"
   ]
  },
  {
   "cell_type": "code",
   "execution_count": 43,
   "id": "fdaf394c-913b-451b-b6cd-03ee6ca81474",
   "metadata": {},
   "outputs": [
    {
     "data": {
      "text/html": [
       "\n",
       "\n",
       "\n",
       "\n",
       "\n",
       "\n",
       "  <div class=\"bk-root\" id=\"f60ac671-141a-4c78-a3e8-6abd6f3600f6\" data-root-id=\"1221\"></div>\n"
      ]
     },
     "metadata": {},
     "output_type": "display_data"
    },
    {
     "data": {
      "application/javascript": [
       "(function(root) {\n",
       "  function embed_document(root) {\n",
       "    \n",
       "  const docs_json = {\"6afedc58-7353-4bd0-a3bc-5ff2ea34a4c6\":{\"defs\":[],\"roots\":{\"references\":[{\"attributes\":{\"below\":[{\"id\":\"1230\"}],\"center\":[{\"id\":\"1233\"},{\"id\":\"1237\"}],\"left\":[{\"id\":\"1234\"}],\"renderers\":[{\"id\":\"1249\"},{\"id\":\"1294\"}],\"title\":{\"id\":\"1222\"},\"toolbar\":{\"id\":\"1243\"},\"x_range\":{\"id\":\"1219\"},\"x_scale\":{\"id\":\"1226\"},\"y_range\":{\"id\":\"1220\"},\"y_scale\":{\"id\":\"1228\"}},\"id\":\"1221\",\"subtype\":\"Figure\",\"type\":\"Plot\"},{\"attributes\":{\"source\":{\"id\":\"1255\"}},\"id\":\"1257\",\"type\":\"CDSView\"},{\"attributes\":{\"coordinates\":null,\"data_source\":{\"id\":\"1251\"},\"glyph\":{\"id\":\"1259\"},\"group\":null,\"hover_glyph\":{\"id\":\"1264\"},\"selection_glyph\":{\"id\":\"1269\"},\"view\":{\"id\":\"1253\"}},\"id\":\"1252\",\"type\":\"GlyphRenderer\"},{\"attributes\":{},\"id\":\"1228\",\"type\":\"LinearScale\"},{\"attributes\":{},\"id\":\"1289\",\"type\":\"NodesAndLinkedEdges\"},{\"attributes\":{\"line_width\":{\"value\":2}},\"id\":\"1279\",\"type\":\"MultiLine\"},{\"attributes\":{\"data\":{\"adjusted_node_size\":[23,10,12,12,11,10,12,10,8,8,8,9,9,11,8,11,9,9,10,8],\"degree\":[16,3,5,5,4,3,5,3,1,1,1,2,2,4,1,4,2,2,3,1],\"index\":[\"Charlie Chaplin\",\"Edwin Schallert\",\"Hank Mann\",\"Harry Myers\",\"Allan Garcia\",\"Dr. F. G. Pease\",\"H. L. Gumbiner\",\"Ransome Sutton\",\"Dr. Michelson\",\"Florence Lee\",\"Francis Peace\",\"Frederick Lonsdale\",\"Joseph Grimaldi\",\"S. Charles Lee\",\"Edwardes Sprout\",\"Virginia Cherrill\",\"Louis XIV\",\"N. P. Alexander\",\"Prof. Einstein\",\"R. E. Campbell\"],\"modularity_class\":[0,2,2,2,2,3,1,3,0,0,0,0,0,1,1,2,1,1,3,1],\"modularity_color\":[\"#3288bd\",\"#abdda4\",\"#abdda4\",\"#abdda4\",\"#abdda4\",\"#e6f598\",\"#66c2a5\",\"#e6f598\",\"#3288bd\",\"#3288bd\",\"#3288bd\",\"#3288bd\",\"#3288bd\",\"#66c2a5\",\"#66c2a5\",\"#abdda4\",\"#66c2a5\",\"#66c2a5\",\"#e6f598\",\"#66c2a5\"]},\"selected\":{\"id\":\"1339\"},\"selection_policy\":{\"id\":\"1338\"}},\"id\":\"1251\",\"type\":\"ColumnDataSource\"},{\"attributes\":{\"end\":10.1,\"start\":-10.1},\"id\":\"1220\",\"type\":\"Range1d\"},{\"attributes\":{},\"id\":\"1226\",\"type\":\"LinearScale\"},{\"attributes\":{\"end\":10.1,\"start\":-10.1},\"id\":\"1219\",\"type\":\"Range1d\"},{\"attributes\":{\"data\":{\"end\":[\"Edwin Schallert\",\"Allan Garcia\",\"Dr. F. G. Pease\",\"H. L. Gumbiner\",\"Ransome Sutton\",\"Dr. Michelson\",\"Florence Lee\",\"Francis Peace\",\"Frederick Lonsdale\",\"Hank Mann\",\"Harry Myers\",\"Joseph Grimaldi\",\"N. P. Alexander\",\"Prof. Einstein\",\"S. Charles Lee\",\"Virginia Cherrill\",\"Hank Mann\",\"Harry Myers\",\"Virginia Cherrill\",\"Allan Garcia\",\"Harry Myers\",\"Allan Garcia\",\"Virginia Cherrill\",\"Virginia Cherrill\",\"Ransome Sutton\",\"Prof. Einstein\",\"S. Charles Lee\",\"Edwardes Sprout\",\"Louis XIV\",\"N. P. Alexander\",\"Prof. Einstein\",\"Joseph Grimaldi\",\"Louis XIV\",\"R. E. Campbell\"],\"start\":[\"Charlie Chaplin\",\"Charlie Chaplin\",\"Charlie Chaplin\",\"Charlie Chaplin\",\"Charlie Chaplin\",\"Charlie Chaplin\",\"Charlie Chaplin\",\"Charlie Chaplin\",\"Charlie Chaplin\",\"Charlie Chaplin\",\"Charlie Chaplin\",\"Charlie Chaplin\",\"Charlie Chaplin\",\"Charlie Chaplin\",\"Charlie Chaplin\",\"Charlie Chaplin\",\"Edwin Schallert\",\"Edwin Schallert\",\"Hank Mann\",\"Hank Mann\",\"Hank Mann\",\"Harry Myers\",\"Harry Myers\",\"Allan Garcia\",\"Dr. F. G. Pease\",\"Dr. F. G. Pease\",\"H. L. Gumbiner\",\"H. L. Gumbiner\",\"H. L. Gumbiner\",\"H. L. Gumbiner\",\"Ransome Sutton\",\"Frederick Lonsdale\",\"S. Charles Lee\",\"S. Charles Lee\"]},\"selected\":{\"id\":\"1341\"},\"selection_policy\":{\"id\":\"1340\"}},\"id\":\"1255\",\"type\":\"ColumnDataSource\"},{\"attributes\":{},\"id\":\"1331\",\"type\":\"BasicTickFormatter\"},{\"attributes\":{},\"id\":\"1231\",\"type\":\"BasicTicker\"},{\"attributes\":{},\"id\":\"1338\",\"type\":\"UnionRenderers\"},{\"attributes\":{},\"id\":\"1334\",\"type\":\"BasicTickFormatter\"},{\"attributes\":{\"coordinates\":null,\"group\":null,\"text\":\"The Network of Tower Theatre and Los Angeles Theatre\"},\"id\":\"1222\",\"type\":\"Title\"},{\"attributes\":{},\"id\":\"1336\",\"type\":\"UnionRenderers\"},{\"attributes\":{\"coordinates\":null,\"formatter\":{\"id\":\"1334\"},\"group\":null,\"major_label_policy\":{\"id\":\"1335\"},\"ticker\":{\"id\":\"1231\"}},\"id\":\"1230\",\"type\":\"LinearAxis\"},{\"attributes\":{\"source\":{\"id\":\"1251\"}},\"id\":\"1253\",\"type\":\"CDSView\"},{\"attributes\":{},\"id\":\"1332\",\"type\":\"AllLabels\"},{\"attributes\":{},\"id\":\"1337\",\"type\":\"Selection\"},{\"attributes\":{\"fill_color\":{\"field\":\"modularity_color\"},\"size\":{\"field\":\"adjusted_node_size\"}},\"id\":\"1259\",\"type\":\"Circle\"},{\"attributes\":{\"coordinates\":null,\"formatter\":{\"id\":\"1331\"},\"group\":null,\"major_label_policy\":{\"id\":\"1332\"},\"ticker\":{\"id\":\"1235\"}},\"id\":\"1234\",\"type\":\"LinearAxis\"},{\"attributes\":{\"coordinates\":null,\"edge_renderer\":{\"id\":\"1256\"},\"group\":null,\"inspection_policy\":{\"id\":\"1291\"},\"layout_provider\":{\"id\":\"1258\"},\"node_renderer\":{\"id\":\"1252\"},\"selection_policy\":{\"id\":\"1289\"}},\"id\":\"1249\",\"type\":\"GraphRenderer\"},{\"attributes\":{\"axis\":{\"id\":\"1230\"},\"coordinates\":null,\"group\":null,\"ticker\":null},\"id\":\"1233\",\"type\":\"Grid\"},{\"attributes\":{\"fill_color\":{\"value\":\"white\"},\"line_width\":{\"value\":2},\"size\":{\"field\":\"adjusted_node_size\"}},\"id\":\"1264\",\"type\":\"Circle\"},{\"attributes\":{\"fill_color\":{\"value\":\"white\"},\"line_width\":{\"value\":2},\"size\":{\"field\":\"adjusted_node_size\"}},\"id\":\"1269\",\"type\":\"Circle\"},{\"attributes\":{\"active_scroll\":{\"id\":\"1239\"},\"tools\":[{\"id\":\"1238\"},{\"id\":\"1239\"},{\"id\":\"1240\"},{\"id\":\"1241\"},{\"id\":\"1242\"}]},\"id\":\"1243\",\"type\":\"Toolbar\"},{\"attributes\":{\"axis\":{\"id\":\"1234\"},\"coordinates\":null,\"dimension\":1,\"group\":null,\"ticker\":null},\"id\":\"1237\",\"type\":\"Grid\"},{\"attributes\":{\"data\":{\"name\":[\"Charlie Chaplin\",\"Edwin Schallert\",\"Hank Mann\",\"Harry Myers\",\"Allan Garcia\",\"Dr. F. G. Pease\",\"H. L. Gumbiner\",\"Ransome Sutton\",\"Dr. Michelson\",\"Florence Lee\",\"Francis Peace\",\"Frederick Lonsdale\",\"Joseph Grimaldi\",\"S. Charles Lee\",\"Edwardes Sprout\",\"Virginia Cherrill\",\"Louis XIV\",\"N. P. Alexander\",\"Prof. Einstein\",\"R. E. Campbell\"],\"x\":[0.5230863748672185,3.239546793880544,4.97012588924179,3.589061040097877,4.345270131832805,-4.5298881776726505,-3.336713609435509,-3.8115815007828684,3.0222715509928992,1.3374673726977657,4.9198015167642275,-0.7291565127729961,-2.3983305928524206,-0.840373974007202,-7.419493880636994,5.737171027144291,-3.4478662467596934,-2.259241843412409,-2.8501363497159358,-0.06101900947073173],\"y\":[1.2361035700739167,-2.3175755582975657,-0.910498663168187,-0.28154724807512027,1.5234915405192155,2.8567465195747315,-3.9971463318165434,1.2098476171084755,5.343362103007378,6.378572870756451,4.412549808181516,6.030467495979836,5.671811784789852,-5.294521905674753,-6.4322922841807415,0.820555054754055,-7.576540285808453,-1.708020239167016,3.034634151442964,-10.0]},\"selected\":{\"id\":\"1337\"},\"selection_policy\":{\"id\":\"1336\"}},\"id\":\"1293\",\"type\":\"ColumnDataSource\"},{\"attributes\":{},\"id\":\"1235\",\"type\":\"BasicTicker\"},{\"attributes\":{},\"id\":\"1239\",\"type\":\"WheelZoomTool\"},{\"attributes\":{},\"id\":\"1238\",\"type\":\"PanTool\"},{\"attributes\":{},\"id\":\"1240\",\"type\":\"SaveTool\"},{\"attributes\":{},\"id\":\"1241\",\"type\":\"ResetTool\"},{\"attributes\":{\"callback\":null,\"tooltips\":[[\"Name\",\"@index\"],[\"Degree\",\"@degree\"],[\"Modularity Class\",\"@modularity_class\"],[\"Modularity Color\",\"$color[swatch]:modularity_color\"]]},\"id\":\"1242\",\"type\":\"HoverTool\"},{\"attributes\":{\"line_alpha\":{\"value\":0.3}},\"id\":\"1274\",\"type\":\"MultiLine\"},{\"attributes\":{},\"id\":\"1340\",\"type\":\"UnionRenderers\"},{\"attributes\":{},\"id\":\"1341\",\"type\":\"Selection\"},{\"attributes\":{\"background_fill_alpha\":{\"value\":0.7},\"background_fill_color\":{\"value\":\"white\"},\"coordinates\":null,\"group\":null,\"source\":{\"id\":\"1293\"},\"text\":{\"field\":\"name\"},\"text_font_size\":{\"value\":\"10px\"},\"x\":{\"field\":\"x\"},\"y\":{\"field\":\"y\"}},\"id\":\"1294\",\"type\":\"LabelSet\"},{\"attributes\":{},\"id\":\"1291\",\"type\":\"NodesAndLinkedEdges\"},{\"attributes\":{},\"id\":\"1335\",\"type\":\"AllLabels\"},{\"attributes\":{\"graph_layout\":{\"Allan Garcia\":[4.345270131832805,1.5234915405192155],\"Charlie Chaplin\":[0.5230863748672185,1.2361035700739167],\"Dr. F. G. Pease\":[-4.5298881776726505,2.8567465195747315],\"Dr. Michelson\":[3.0222715509928992,5.343362103007378],\"Edwardes Sprout\":[-7.419493880636994,-6.4322922841807415],\"Edwin Schallert\":[3.239546793880544,-2.3175755582975657],\"Florence Lee\":[1.3374673726977657,6.378572870756451],\"Francis Peace\":[4.9198015167642275,4.412549808181516],\"Frederick Lonsdale\":[-0.7291565127729961,6.030467495979836],\"H. L. Gumbiner\":[-3.336713609435509,-3.9971463318165434],\"Hank Mann\":[4.97012588924179,-0.910498663168187],\"Harry Myers\":[3.589061040097877,-0.28154724807512027],\"Joseph Grimaldi\":[-2.3983305928524206,5.671811784789852],\"Louis XIV\":[-3.4478662467596934,-7.576540285808453],\"N. P. Alexander\":[-2.259241843412409,-1.708020239167016],\"Prof. Einstein\":[-2.8501363497159358,3.034634151442964],\"R. E. Campbell\":[-0.06101900947073173,-10.0],\"Ransome Sutton\":[-3.8115815007828684,1.2098476171084755],\"S. Charles Lee\":[-0.840373974007202,-5.294521905674753],\"Virginia Cherrill\":[5.737171027144291,0.820555054754055]}},\"id\":\"1258\",\"type\":\"StaticLayoutProvider\"},{\"attributes\":{\"line_width\":{\"value\":2}},\"id\":\"1284\",\"type\":\"MultiLine\"},{\"attributes\":{},\"id\":\"1339\",\"type\":\"Selection\"},{\"attributes\":{\"coordinates\":null,\"data_source\":{\"id\":\"1255\"},\"glyph\":{\"id\":\"1274\"},\"group\":null,\"hover_glyph\":{\"id\":\"1284\"},\"selection_glyph\":{\"id\":\"1279\"},\"view\":{\"id\":\"1257\"}},\"id\":\"1256\",\"type\":\"GlyphRenderer\"}],\"root_ids\":[\"1221\"]},\"title\":\"Bokeh Application\",\"version\":\"2.4.0\"}};\n",
       "  const render_items = [{\"docid\":\"6afedc58-7353-4bd0-a3bc-5ff2ea34a4c6\",\"root_ids\":[\"1221\"],\"roots\":{\"1221\":\"f60ac671-141a-4c78-a3e8-6abd6f3600f6\"}}];\n",
       "  root.Bokeh.embed.embed_items_notebook(docs_json, render_items);\n",
       "\n",
       "  }\n",
       "  if (root.Bokeh !== undefined) {\n",
       "    embed_document(root);\n",
       "  } else {\n",
       "    let attempts = 0;\n",
       "    const timer = setInterval(function(root) {\n",
       "      if (root.Bokeh !== undefined) {\n",
       "        clearInterval(timer);\n",
       "        embed_document(root);\n",
       "      } else {\n",
       "        attempts++;\n",
       "        if (attempts > 100) {\n",
       "          clearInterval(timer);\n",
       "          console.log(\"Bokeh: ERROR: Unable to run BokehJS code because BokehJS library is missing\");\n",
       "        }\n",
       "      }\n",
       "    }, 10, root)\n",
       "  }\n",
       "})(window);"
      ],
      "application/vnd.bokehjs_exec.v0+json": ""
     },
     "metadata": {
      "application/vnd.bokehjs_exec.v0+json": {
       "id": "1221"
      }
     },
     "output_type": "display_data"
    },
    {
     "name": "stderr",
     "output_type": "stream",
     "text": [
      "/opt/conda/lib/python3.9/site-packages/bokeh/io/saving.py:142: UserWarning: save() called but no resources were supplied and output_file(...) was never called, defaulting to resources.CDN\n",
      "  warn(\"save() called but no resources were supplied and output_file(...) was never called, defaulting to resources.CDN\")\n",
      "/opt/conda/lib/python3.9/site-packages/bokeh/io/saving.py:154: UserWarning: save() called but no title was supplied and output_file(...) was never called, using default title 'Bokeh Plot'\n",
      "  warn(\"save() called but no title was supplied and output_file(...) was never called, using default title 'Bokeh Plot'\")\n"
     ]
    },
    {
     "data": {
      "text/plain": [
       "'/home/jovyan/Dh-140-Final-fastai/Dh-140-Final-fastai/_notebooks/The Network of Tower Theatre and Los Angeles Theatre.html'"
      ]
     },
     "execution_count": 43,
     "metadata": {},
     "output_type": "execute_result"
    }
   ],
   "source": [
    "#Choose colors for node and edge highlighting\n",
    "node_highlight_color = 'white'\n",
    "edge_highlight_color = 'black'\n",
    "\n",
    "#Choose attributes from G network to size and color by — setting manual size (e.g. 10) or color (e.g. 'skyblue') also allowed\n",
    "size_by_this_attribute = 'adjusted_node_size'\n",
    "color_by_this_attribute = 'modularity_color'\n",
    "\n",
    "#Pick a color palette — Blues8, Reds8, Purples8, Oranges8, Viridis8\n",
    "color_palette = Purples8\n",
    "\n",
    "#Choose a title!\n",
    "title = 'The Network of Tower Theatre and Los Angeles Theatre'\n",
    "\n",
    "#Establish which categories will appear when hovering over each node\n",
    "HOVER_TOOLTIPS = [\n",
    "    (\"Name\", \"@index\"),\n",
    "    (\"Degree\", \"@degree\"),\n",
    "    (\"Modularity Class\", \"@modularity_class\"),\n",
    "    (\"Modularity Color\", \"$color[swatch]:modularity_color\"),\n",
    "]\n",
    "\n",
    "#Create a plot — set dimensions, toolbar, and title\n",
    "plot = figure(tooltips = HOVER_TOOLTIPS,\n",
    "              tools=\"pan,wheel_zoom,save,reset\", active_scroll='wheel_zoom',\n",
    "              x_range=Range1d(-10.1, 10.1), y_range=Range1d(-10.1, 10.1), title=title)\n",
    "\n",
    "#Create a network graph object\n",
    "# https://networkx.github.io/documentation/networkx-1.9/reference/generated/networkx.drawing.layout.spring_layout.html\n",
    "network_graph = from_networkx(Network, nx.spring_layout, scale=10, center=(0, 0))\n",
    "\n",
    "#Set node sizes and colors according to node degree (color as category from attribute)\n",
    "network_graph.node_renderer.glyph = Circle(size=size_by_this_attribute, fill_color=color_by_this_attribute)\n",
    "#Set node highlight colors\n",
    "network_graph.node_renderer.hover_glyph = Circle(size=size_by_this_attribute, fill_color=node_highlight_color, line_width=2)\n",
    "network_graph.node_renderer.selection_glyph = Circle(size=size_by_this_attribute, fill_color=node_highlight_color, line_width=2)\n",
    "\n",
    "#Set edge opacity and width\n",
    "network_graph.edge_renderer.glyph = MultiLine(line_alpha=0.3, line_width=1)\n",
    "#Set edge highlight colors\n",
    "network_graph.edge_renderer.selection_glyph = MultiLine(line_color=edge_highlight_color, line_width=2)\n",
    "network_graph.edge_renderer.hover_glyph = MultiLine(line_color=edge_highlight_color, line_width=2)\n",
    "\n",
    "#Highlight nodes and edges\n",
    "network_graph.selection_policy = NodesAndLinkedEdges()\n",
    "network_graph.inspection_policy = NodesAndLinkedEdges()\n",
    "\n",
    "plot.renderers.append(network_graph)\n",
    "\n",
    "#Add Labels\n",
    "x, y = zip(*network_graph.layout_provider.graph_layout.values())\n",
    "node_labels = list(Network.nodes())\n",
    "source = ColumnDataSource({'x': x, 'y': y, 'name': [node_labels[i] for i in range(len(x))]})\n",
    "labels = LabelSet(x='x', y='y', text='name', source=source, background_fill_color='white', text_font_size='10px', background_fill_alpha=.7)\n",
    "plot.renderers.append(labels)\n",
    "\n",
    "show(plot)\n",
    "save(plot, filename=f\"{title}.html\")"
   ]
  },
  {
   "cell_type": "markdown",
   "id": "5141c571-2143-472e-9a48-660736a45cd5",
   "metadata": {},
   "source": [
    "![Image of network with communities](bokeh_plot_with_community.png)\n"
   ]
  },
  {
   "cell_type": "code",
   "execution_count": null,
   "id": "fe8862fb-b054-4476-851e-9597bbc2aaf1",
   "metadata": {},
   "outputs": [],
   "source": []
  }
 ],
 "metadata": {
  "kernelspec": {
   "display_name": "Python 3 (ipykernel)",
   "language": "python",
   "name": "python3"
  },
  "language_info": {
   "codemirror_mode": {
    "name": "ipython",
    "version": 3
   },
   "file_extension": ".py",
   "mimetype": "text/x-python",
   "name": "python",
   "nbconvert_exporter": "python",
   "pygments_lexer": "ipython3",
   "version": "3.9.6"
  }
 },
 "nbformat": 4,
 "nbformat_minor": 5
}
